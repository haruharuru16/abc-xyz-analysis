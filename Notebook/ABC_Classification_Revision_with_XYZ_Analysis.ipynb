{
 "cells": [
  {
   "cell_type": "markdown",
   "metadata": {
    "id": "ndCAvG4L-2Ri"
   },
   "source": [
    "# ABC Analysis Revision with XYZ Analysis"
   ]
  },
  {
   "cell_type": "markdown",
   "metadata": {
    "id": "mvRn51EJ-6B1"
   },
   "source": [
    "## Data Preparation"
   ]
  },
  {
   "cell_type": "markdown",
   "metadata": {
    "id": "_tIAXg2h-7kM"
   },
   "source": [
    "### Load Data"
   ]
  },
  {
   "cell_type": "code",
   "execution_count": 1,
   "metadata": {
    "id": "78RaJnU3_A9L"
   },
   "outputs": [],
   "source": [
    "import pandas as pd\n",
    "import numpy as np\n",
    "import seaborn as sns\n",
    "import matplotlib.pyplot as plt\n",
    "from datetime import datetime as dt\n",
    "from matplotlib import rcParams\n",
    "from sklearn.metrics import plot_confusion_matrix, confusion_matrix, classification_report"
   ]
  },
  {
   "cell_type": "code",
   "execution_count": 2,
   "metadata": {
    "id": "5fTU8ien9-qc"
   },
   "outputs": [],
   "source": [
    "# !pip install -q kaggle"
   ]
  },
  {
   "cell_type": "code",
   "execution_count": 3,
   "metadata": {
    "colab": {
     "base_uri": "https://localhost:8080/",
     "height": 109,
     "resources": {
      "http://localhost:8080/nbextensions/google.colab/files.js": {
       "data": "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",
       "headers": [
        [
         "content-type",
         "application/javascript"
        ]
       ],
       "ok": true,
       "status": 200,
       "status_text": ""
      }
     }
    },
    "id": "b1Uw6QsK-Siq",
    "outputId": "7c9c88bf-4138-4868-e2b8-f431b074e952"
   },
   "outputs": [],
   "source": [
    "# from google.colab import files\n",
    "# files.upload()"
   ]
  },
  {
   "cell_type": "code",
   "execution_count": 4,
   "metadata": {
    "colab": {
     "base_uri": "https://localhost:8080/"
    },
    "id": "DOJiE6RQ-WEn",
    "outputId": "65b1fd63-ddc9-4328-f19f-bfacb4f83406"
   },
   "outputs": [],
   "source": [
    "# !mkdir -p ~/.kaggle\n",
    "# !cp kaggle.json ~/.kaggle\n",
    "# !chmod 600 ~/.kaggle/kaggle.json\n",
    "# !ls ~/.kaggle"
   ]
  },
  {
   "cell_type": "code",
   "execution_count": 5,
   "metadata": {
    "colab": {
     "base_uri": "https://localhost:8080/"
    },
    "id": "C1Jo_CK5-ZNi",
    "outputId": "e928d5f9-3469-4fbd-fd8a-a9b70e18c3eb"
   },
   "outputs": [],
   "source": [
    "# !kaggle datasets download -d felixzhao/productdemandforecasting"
   ]
  },
  {
   "cell_type": "code",
   "execution_count": 6,
   "metadata": {
    "colab": {
     "base_uri": "https://localhost:8080/"
    },
    "id": "uMMKyvcP-cp5",
    "outputId": "f51b87d7-55e0-41d6-f070-fae5029bd28f"
   },
   "outputs": [],
   "source": [
    "# !mkdir warehouse\n",
    "# !unzip productdemandforecasting.zip -d warehouse\n",
    "# !ls warehouse"
   ]
  },
  {
   "cell_type": "code",
   "execution_count": 2,
   "metadata": {
    "id": "-4yBnass-o0P"
   },
   "outputs": [],
   "source": [
    "# Pandas show all column\n",
    "pd.set_option('display.max_columns', 200)\n",
    "\n",
    "# change params for matplotlib\n",
    "rcParams['figure.figsize'] = 12, 4\n",
    "rcParams['lines.linewidth'] = 3\n",
    "rcParams['xtick.labelsize'] = 'x-large'\n",
    "rcParams['ytick.labelsize'] = 'x-large'"
   ]
  },
  {
   "cell_type": "code",
   "execution_count": 3,
   "metadata": {
    "id": "YW-ymtAX_G39"
   },
   "outputs": [],
   "source": [
    "# df_sales = pd.read_csv('/content/warehouse/Historical Product Demand.csv')\n",
    "df_sales = pd.read_csv('Historical Product Demand.csv')"
   ]
  },
  {
   "cell_type": "markdown",
   "metadata": {
    "id": "mzQjKGdg_TBG"
   },
   "source": [
    "### Review data info"
   ]
  },
  {
   "cell_type": "code",
   "execution_count": 4,
   "metadata": {
    "colab": {
     "base_uri": "https://localhost:8080/"
    },
    "id": "I4obFEyH_Qv4",
    "outputId": "fffc3bdf-a038-4e8b-fe63-1d6af8dcfda7"
   },
   "outputs": [
    {
     "data": {
      "text/plain": [
       "(1048575, 5)"
      ]
     },
     "execution_count": 4,
     "metadata": {},
     "output_type": "execute_result"
    }
   ],
   "source": [
    "df_sales.shape"
   ]
  },
  {
   "cell_type": "code",
   "execution_count": 5,
   "metadata": {
    "colab": {
     "base_uri": "https://localhost:8080/"
    },
    "id": "a5epoUC7_VX0",
    "outputId": "5bfe95e9-ed14-4e1d-97b9-2e9f66110fbc"
   },
   "outputs": [
    {
     "data": {
      "text/plain": [
       "Index(['Product_Code', 'Warehouse', 'Product_Category', 'Date',\n",
       "       'Order_Demand'],\n",
       "      dtype='object')"
      ]
     },
     "execution_count": 5,
     "metadata": {},
     "output_type": "execute_result"
    }
   ],
   "source": [
    "df_sales.columns"
   ]
  },
  {
   "cell_type": "markdown",
   "metadata": {
    "id": "Dj5VTS2L_kVn"
   },
   "source": [
    "### Exploratory Data Analysis"
   ]
  },
  {
   "cell_type": "markdown",
   "metadata": {
    "id": "GYMPShry_mNP"
   },
   "source": [
    "#### Descriptive Statistics"
   ]
  },
  {
   "cell_type": "code",
   "execution_count": 6,
   "metadata": {
    "colab": {
     "base_uri": "https://localhost:8080/",
     "height": 204
    },
    "id": "H3QK3cdNAJ-2",
    "outputId": "dcc4dca5-d465-4b28-816e-271055e54cc0"
   },
   "outputs": [
    {
     "data": {
      "text/html": [
       "<div>\n",
       "<style scoped>\n",
       "    .dataframe tbody tr th:only-of-type {\n",
       "        vertical-align: middle;\n",
       "    }\n",
       "\n",
       "    .dataframe tbody tr th {\n",
       "        vertical-align: top;\n",
       "    }\n",
       "\n",
       "    .dataframe thead th {\n",
       "        text-align: right;\n",
       "    }\n",
       "</style>\n",
       "<table border=\"1\" class=\"dataframe\">\n",
       "  <thead>\n",
       "    <tr style=\"text-align: right;\">\n",
       "      <th></th>\n",
       "      <th>Product_Code</th>\n",
       "      <th>Warehouse</th>\n",
       "      <th>Product_Category</th>\n",
       "      <th>Date</th>\n",
       "      <th>Order_Demand</th>\n",
       "    </tr>\n",
       "  </thead>\n",
       "  <tbody>\n",
       "    <tr>\n",
       "      <th>0</th>\n",
       "      <td>Product_0993</td>\n",
       "      <td>Whse_J</td>\n",
       "      <td>Category_028</td>\n",
       "      <td>2012/7/27</td>\n",
       "      <td>100</td>\n",
       "    </tr>\n",
       "    <tr>\n",
       "      <th>1</th>\n",
       "      <td>Product_0979</td>\n",
       "      <td>Whse_J</td>\n",
       "      <td>Category_028</td>\n",
       "      <td>2012/1/19</td>\n",
       "      <td>500</td>\n",
       "    </tr>\n",
       "  </tbody>\n",
       "</table>\n",
       "</div>"
      ],
      "text/plain": [
       "   Product_Code Warehouse Product_Category       Date Order_Demand\n",
       "0  Product_0993    Whse_J     Category_028  2012/7/27         100 \n",
       "1  Product_0979    Whse_J     Category_028  2012/1/19         500 "
      ]
     },
     "execution_count": 6,
     "metadata": {},
     "output_type": "execute_result"
    }
   ],
   "source": [
    "df_sales.head(2)"
   ]
  },
  {
   "cell_type": "code",
   "execution_count": 12,
   "metadata": {
    "colab": {
     "base_uri": "https://localhost:8080/"
    },
    "id": "Q4bf3i-i_YpQ",
    "outputId": "2d419c16-7f23-459d-9e0a-d139c9c1b1e9"
   },
   "outputs": [
    {
     "name": "stdout",
     "output_type": "stream",
     "text": [
      "<class 'pandas.core.frame.DataFrame'>\n",
      "RangeIndex: 1048575 entries, 0 to 1048574\n",
      "Data columns (total 5 columns):\n",
      " #   Column            Non-Null Count    Dtype \n",
      "---  ------            --------------    ----- \n",
      " 0   Product_Code      1048575 non-null  object\n",
      " 1   Warehouse         1048575 non-null  object\n",
      " 2   Product_Category  1048575 non-null  object\n",
      " 3   Date              1037336 non-null  object\n",
      " 4   Order_Demand      1048575 non-null  object\n",
      "dtypes: object(5)\n",
      "memory usage: 40.0+ MB\n"
     ]
    }
   ],
   "source": [
    "df_sales.info()"
   ]
  },
  {
   "cell_type": "code",
   "execution_count": 7,
   "metadata": {
    "colab": {
     "base_uri": "https://localhost:8080/",
     "height": 359
    },
    "id": "0MgyN9dcCIPr",
    "outputId": "5a02cbd9-0ead-4d36-8bff-9db8db1e2603"
   },
   "outputs": [
    {
     "data": {
      "text/html": [
       "<div>\n",
       "<style scoped>\n",
       "    .dataframe tbody tr th:only-of-type {\n",
       "        vertical-align: middle;\n",
       "    }\n",
       "\n",
       "    .dataframe tbody tr th {\n",
       "        vertical-align: top;\n",
       "    }\n",
       "\n",
       "    .dataframe thead th {\n",
       "        text-align: right;\n",
       "    }\n",
       "</style>\n",
       "<table border=\"1\" class=\"dataframe\">\n",
       "  <thead>\n",
       "    <tr style=\"text-align: right;\">\n",
       "      <th></th>\n",
       "      <th>Product_Code</th>\n",
       "      <th>Warehouse</th>\n",
       "      <th>Product_Category</th>\n",
       "      <th>Date</th>\n",
       "      <th>Order_Demand</th>\n",
       "    </tr>\n",
       "  </thead>\n",
       "  <tbody>\n",
       "    <tr>\n",
       "      <th>1048573</th>\n",
       "      <td>Product_0901</td>\n",
       "      <td>Whse_J</td>\n",
       "      <td>Category_023</td>\n",
       "      <td>2016/10/7</td>\n",
       "      <td>50</td>\n",
       "    </tr>\n",
       "    <tr>\n",
       "      <th>1048574</th>\n",
       "      <td>Product_0704</td>\n",
       "      <td>Whse_J</td>\n",
       "      <td>Category_001</td>\n",
       "      <td>2016/6/27</td>\n",
       "      <td>4</td>\n",
       "    </tr>\n",
       "  </tbody>\n",
       "</table>\n",
       "</div>"
      ],
      "text/plain": [
       "         Product_Code Warehouse Product_Category       Date Order_Demand\n",
       "1048573  Product_0901    Whse_J     Category_023  2016/10/7          50 \n",
       "1048574  Product_0704    Whse_J     Category_001  2016/6/27           4 "
      ]
     },
     "execution_count": 7,
     "metadata": {},
     "output_type": "execute_result"
    }
   ],
   "source": [
    "df_sales.tail(2)"
   ]
  },
  {
   "cell_type": "code",
   "execution_count": 8,
   "metadata": {
    "colab": {
     "base_uri": "https://localhost:8080/",
     "height": 204
    },
    "id": "9hFHFuSXItHf",
    "outputId": "671adbde-4414-407a-93f2-65a78ecb6d68"
   },
   "outputs": [
    {
     "data": {
      "text/html": [
       "<div>\n",
       "<style scoped>\n",
       "    .dataframe tbody tr th:only-of-type {\n",
       "        vertical-align: middle;\n",
       "    }\n",
       "\n",
       "    .dataframe tbody tr th {\n",
       "        vertical-align: top;\n",
       "    }\n",
       "\n",
       "    .dataframe thead th {\n",
       "        text-align: right;\n",
       "    }\n",
       "</style>\n",
       "<table border=\"1\" class=\"dataframe\">\n",
       "  <thead>\n",
       "    <tr style=\"text-align: right;\">\n",
       "      <th></th>\n",
       "      <th>count</th>\n",
       "      <th>unique</th>\n",
       "      <th>top</th>\n",
       "      <th>freq</th>\n",
       "    </tr>\n",
       "  </thead>\n",
       "  <tbody>\n",
       "    <tr>\n",
       "      <th>Product_Code</th>\n",
       "      <td>1048575</td>\n",
       "      <td>2160</td>\n",
       "      <td>Product_1359</td>\n",
       "      <td>16936</td>\n",
       "    </tr>\n",
       "    <tr>\n",
       "      <th>Warehouse</th>\n",
       "      <td>1048575</td>\n",
       "      <td>4</td>\n",
       "      <td>Whse_J</td>\n",
       "      <td>764447</td>\n",
       "    </tr>\n",
       "    <tr>\n",
       "      <th>Product_Category</th>\n",
       "      <td>1048575</td>\n",
       "      <td>33</td>\n",
       "      <td>Category_019</td>\n",
       "      <td>481099</td>\n",
       "    </tr>\n",
       "    <tr>\n",
       "      <th>Date</th>\n",
       "      <td>1037336</td>\n",
       "      <td>1729</td>\n",
       "      <td>2013/9/27</td>\n",
       "      <td>2075</td>\n",
       "    </tr>\n",
       "    <tr>\n",
       "      <th>Order_Demand</th>\n",
       "      <td>1048575</td>\n",
       "      <td>3828</td>\n",
       "      <td>1000</td>\n",
       "      <td>112682</td>\n",
       "    </tr>\n",
       "  </tbody>\n",
       "</table>\n",
       "</div>"
      ],
      "text/plain": [
       "                    count unique           top    freq\n",
       "Product_Code      1048575   2160  Product_1359   16936\n",
       "Warehouse         1048575      4        Whse_J  764447\n",
       "Product_Category  1048575     33  Category_019  481099\n",
       "Date              1037336   1729     2013/9/27    2075\n",
       "Order_Demand      1048575   3828         1000   112682"
      ]
     },
     "execution_count": 8,
     "metadata": {},
     "output_type": "execute_result"
    }
   ],
   "source": [
    "df_sales.describe().T"
   ]
  },
  {
   "cell_type": "markdown",
   "metadata": {
    "id": "o47ofIvUIN-8"
   },
   "source": [
    "### Data Preparation"
   ]
  },
  {
   "cell_type": "code",
   "execution_count": 9,
   "metadata": {
    "colab": {
     "base_uri": "https://localhost:8080/"
    },
    "id": "8uVVURBVHGpZ",
    "outputId": "4f607fdf-a07f-4a08-aad3-31cbe6969c04"
   },
   "outputs": [
    {
     "name": "stdout",
     "output_type": "stream",
     "text": [
      "<class 'pandas.core.frame.DataFrame'>\n",
      "RangeIndex: 1048575 entries, 0 to 1048574\n",
      "Data columns (total 5 columns):\n",
      " #   Column            Non-Null Count    Dtype \n",
      "---  ------            --------------    ----- \n",
      " 0   Product_Code      1048575 non-null  object\n",
      " 1   Warehouse         1048575 non-null  object\n",
      " 2   Product_Category  1048575 non-null  object\n",
      " 3   Date              1037336 non-null  object\n",
      " 4   Order_Demand      1048575 non-null  object\n",
      "dtypes: object(5)\n",
      "memory usage: 40.0+ MB\n"
     ]
    }
   ],
   "source": [
    "df_sales.info()"
   ]
  },
  {
   "cell_type": "markdown",
   "metadata": {
    "id": "cG2bkly7ISXP"
   },
   "source": [
    "#### Converting Order Demand Data as Int"
   ]
  },
  {
   "cell_type": "code",
   "execution_count": 10,
   "metadata": {
    "id": "Yd_X3FNeEQh9"
   },
   "outputs": [],
   "source": [
    "df_sales.Order_Demand = df_sales.Order_Demand.astype('str')"
   ]
  },
  {
   "cell_type": "code",
   "execution_count": 11,
   "metadata": {
    "id": "XSMRa13sFrBe"
   },
   "outputs": [
    {
     "name": "stderr",
     "output_type": "stream",
     "text": [
      "C:\\Users\\AFIFAT~1\\AppData\\Local\\Temp/ipykernel_21664/923508533.py:1: FutureWarning: The default value of regex will change from True to False in a future version. In addition, single character regular expressions will*not* be treated as literal strings when regex=True.\n",
      "  df_sales['Order_Demand'] = df_sales['Order_Demand'].str.replace(')', '')\n",
      "C:\\Users\\AFIFAT~1\\AppData\\Local\\Temp/ipykernel_21664/923508533.py:2: FutureWarning: The default value of regex will change from True to False in a future version. In addition, single character regular expressions will*not* be treated as literal strings when regex=True.\n",
      "  df_sales['Order_Demand'] = df_sales['Order_Demand'].str.replace('(', '')\n"
     ]
    }
   ],
   "source": [
    "df_sales['Order_Demand'] = df_sales['Order_Demand'].str.replace(')', '')\n",
    "df_sales['Order_Demand'] = df_sales['Order_Demand'].str.replace('(', '')"
   ]
  },
  {
   "cell_type": "code",
   "execution_count": 12,
   "metadata": {
    "id": "_j9YtSmIGUWE"
   },
   "outputs": [],
   "source": [
    "df_sales['Order_Demand'] = df_sales['Order_Demand'].astype('int')"
   ]
  },
  {
   "cell_type": "markdown",
   "metadata": {
    "id": "t7E4JQPwIZrX"
   },
   "source": [
    "#### Converting Data Date from Object to Datetime"
   ]
  },
  {
   "cell_type": "code",
   "execution_count": 13,
   "metadata": {
    "id": "CGvLNQg5GYB_"
   },
   "outputs": [],
   "source": [
    "df_sales['Date'] = pd.to_datetime(df_sales['Date'])"
   ]
  },
  {
   "cell_type": "markdown",
   "metadata": {
    "id": "6EzYyK8gImO2"
   },
   "source": [
    "#### Checking for Missing Data"
   ]
  },
  {
   "cell_type": "code",
   "execution_count": 14,
   "metadata": {
    "colab": {
     "base_uri": "https://localhost:8080/"
    },
    "id": "PizRsyjbIqRT",
    "outputId": "8e965016-3b35-45ca-b493-e82ccfbda833"
   },
   "outputs": [
    {
     "data": {
      "text/plain": [
       "Product_Code            0\n",
       "Warehouse               0\n",
       "Product_Category        0\n",
       "Date                11239\n",
       "Order_Demand            0\n",
       "dtype: int64"
      ]
     },
     "execution_count": 14,
     "metadata": {},
     "output_type": "execute_result"
    }
   ],
   "source": [
    "df_sales.isna().sum()"
   ]
  },
  {
   "cell_type": "markdown",
   "metadata": {
    "id": "Ig3vIRw2JHUw"
   },
   "source": [
    "#### Dropping Missing Data"
   ]
  },
  {
   "cell_type": "code",
   "execution_count": 15,
   "metadata": {
    "id": "i5HRzzW_HKsY"
   },
   "outputs": [],
   "source": [
    "df_sales = df_sales.dropna()"
   ]
  },
  {
   "cell_type": "markdown",
   "metadata": {
    "id": "Tft7fjWpJQWu"
   },
   "source": [
    "#### Sorting Data Based on Date"
   ]
  },
  {
   "cell_type": "code",
   "execution_count": 16,
   "metadata": {
    "id": "2NZvaPbkHsrD"
   },
   "outputs": [],
   "source": [
    "df_sales = df_sales.sort_values('Date')"
   ]
  },
  {
   "cell_type": "code",
   "execution_count": 17,
   "metadata": {
    "colab": {
     "base_uri": "https://localhost:8080/",
     "height": 419
    },
    "id": "-3JANDe3H7Nw",
    "outputId": "7fcb3e49-9eb0-4f7d-b1b3-9097a41ca85f"
   },
   "outputs": [
    {
     "data": {
      "text/html": [
       "<div>\n",
       "<style scoped>\n",
       "    .dataframe tbody tr th:only-of-type {\n",
       "        vertical-align: middle;\n",
       "    }\n",
       "\n",
       "    .dataframe tbody tr th {\n",
       "        vertical-align: top;\n",
       "    }\n",
       "\n",
       "    .dataframe thead th {\n",
       "        text-align: right;\n",
       "    }\n",
       "</style>\n",
       "<table border=\"1\" class=\"dataframe\">\n",
       "  <thead>\n",
       "    <tr style=\"text-align: right;\">\n",
       "      <th></th>\n",
       "      <th>Product_Code</th>\n",
       "      <th>Warehouse</th>\n",
       "      <th>Product_Category</th>\n",
       "      <th>Date</th>\n",
       "      <th>Order_Demand</th>\n",
       "    </tr>\n",
       "  </thead>\n",
       "  <tbody>\n",
       "    <tr>\n",
       "      <th>44799</th>\n",
       "      <td>Product_0965</td>\n",
       "      <td>Whse_A</td>\n",
       "      <td>Category_006</td>\n",
       "      <td>2011-01-08</td>\n",
       "      <td>2</td>\n",
       "    </tr>\n",
       "    <tr>\n",
       "      <th>72252</th>\n",
       "      <td>Product_1724</td>\n",
       "      <td>Whse_A</td>\n",
       "      <td>Category_003</td>\n",
       "      <td>2011-05-31</td>\n",
       "      <td>108</td>\n",
       "    </tr>\n",
       "  </tbody>\n",
       "</table>\n",
       "</div>"
      ],
      "text/plain": [
       "       Product_Code Warehouse Product_Category       Date  Order_Demand\n",
       "44799  Product_0965    Whse_A     Category_006 2011-01-08             2\n",
       "72252  Product_1724    Whse_A     Category_003 2011-05-31           108"
      ]
     },
     "execution_count": 17,
     "metadata": {},
     "output_type": "execute_result"
    }
   ],
   "source": [
    "df_sales.head(2)"
   ]
  },
  {
   "cell_type": "markdown",
   "metadata": {
    "id": "HevM2DwDJPtG"
   },
   "source": [
    "#### Check for Data Duplication"
   ]
  },
  {
   "cell_type": "code",
   "execution_count": 18,
   "metadata": {
    "colab": {
     "base_uri": "https://localhost:8080/"
    },
    "id": "9kd1Fi5kH8QC",
    "outputId": "eda48f52-1d0a-4d68-d79c-225d1eb3a285"
   },
   "outputs": [
    {
     "data": {
      "text/plain": [
       "114520"
      ]
     },
     "execution_count": 18,
     "metadata": {},
     "output_type": "execute_result"
    }
   ],
   "source": [
    "df_sales.duplicated().sum()"
   ]
  },
  {
   "cell_type": "code",
   "execution_count": 19,
   "metadata": {
    "id": "p16z6piZNUg1"
   },
   "outputs": [],
   "source": [
    "df_dupl = df_sales.drop_duplicates()"
   ]
  },
  {
   "cell_type": "code",
   "execution_count": 20,
   "metadata": {
    "colab": {
     "base_uri": "https://localhost:8080/"
    },
    "id": "QCBCcy9pOD7n",
    "outputId": "2b2fbd4e-147e-4b63-c634-ad79605fd200"
   },
   "outputs": [
    {
     "data": {
      "text/plain": [
       "0"
      ]
     },
     "execution_count": 20,
     "metadata": {},
     "output_type": "execute_result"
    }
   ],
   "source": [
    "df_dupl.duplicated().sum()"
   ]
  },
  {
   "cell_type": "code",
   "execution_count": 21,
   "metadata": {
    "colab": {
     "base_uri": "https://localhost:8080/"
    },
    "id": "o8oK5mgAOHDT",
    "outputId": "41f54eac-a0b9-4daa-c43e-6cd3c2efe9a7"
   },
   "outputs": [
    {
     "data": {
      "text/plain": [
       "(922816, 5)"
      ]
     },
     "execution_count": 21,
     "metadata": {},
     "output_type": "execute_result"
    }
   ],
   "source": [
    "df_dupl.shape"
   ]
  },
  {
   "cell_type": "markdown",
   "metadata": {
    "id": "6yklDl0eObjF"
   },
   "source": [
    "#### Feature Engineering"
   ]
  },
  {
   "cell_type": "code",
   "execution_count": 22,
   "metadata": {
    "colab": {
     "base_uri": "https://localhost:8080/",
     "height": 419
    },
    "id": "DlaYUJwqOYIz",
    "outputId": "4825bc9b-a77a-480c-c78d-bddc4301b10e"
   },
   "outputs": [
    {
     "data": {
      "text/html": [
       "<div>\n",
       "<style scoped>\n",
       "    .dataframe tbody tr th:only-of-type {\n",
       "        vertical-align: middle;\n",
       "    }\n",
       "\n",
       "    .dataframe tbody tr th {\n",
       "        vertical-align: top;\n",
       "    }\n",
       "\n",
       "    .dataframe thead th {\n",
       "        text-align: right;\n",
       "    }\n",
       "</style>\n",
       "<table border=\"1\" class=\"dataframe\">\n",
       "  <thead>\n",
       "    <tr style=\"text-align: right;\">\n",
       "      <th></th>\n",
       "      <th>Product_Code</th>\n",
       "      <th>Date</th>\n",
       "      <th>Order_Demand</th>\n",
       "    </tr>\n",
       "  </thead>\n",
       "  <tbody>\n",
       "    <tr>\n",
       "      <th>44799</th>\n",
       "      <td>Product_0965</td>\n",
       "      <td>2011-01-08</td>\n",
       "      <td>2</td>\n",
       "    </tr>\n",
       "    <tr>\n",
       "      <th>72252</th>\n",
       "      <td>Product_1724</td>\n",
       "      <td>2011-05-31</td>\n",
       "      <td>108</td>\n",
       "    </tr>\n",
       "  </tbody>\n",
       "</table>\n",
       "</div>"
      ],
      "text/plain": [
       "       Product_Code       Date  Order_Demand\n",
       "44799  Product_0965 2011-01-08             2\n",
       "72252  Product_1724 2011-05-31           108"
      ]
     },
     "execution_count": 22,
     "metadata": {},
     "output_type": "execute_result"
    }
   ],
   "source": [
    "df_fe = df_dupl.loc[:, ['Product_Code', 'Date', 'Order_Demand']]\n",
    "df_fe.head(2)"
   ]
  },
  {
   "cell_type": "code",
   "execution_count": 23,
   "metadata": {
    "colab": {
     "base_uri": "https://localhost:8080/",
     "height": 235
    },
    "id": "edW03-70Ewtz",
    "outputId": "eafcb331-8270-4d33-9dc2-6c53ec78ddb2"
   },
   "outputs": [
    {
     "data": {
      "text/html": [
       "<div>\n",
       "<style scoped>\n",
       "    .dataframe tbody tr th:only-of-type {\n",
       "        vertical-align: middle;\n",
       "    }\n",
       "\n",
       "    .dataframe tbody tr th {\n",
       "        vertical-align: top;\n",
       "    }\n",
       "\n",
       "    .dataframe thead th {\n",
       "        text-align: right;\n",
       "    }\n",
       "</style>\n",
       "<table border=\"1\" class=\"dataframe\">\n",
       "  <thead>\n",
       "    <tr style=\"text-align: right;\">\n",
       "      <th></th>\n",
       "      <th>month</th>\n",
       "      <th>Order_Demand</th>\n",
       "    </tr>\n",
       "  </thead>\n",
       "  <tbody>\n",
       "    <tr>\n",
       "      <th>2</th>\n",
       "      <td>2016-07-01</td>\n",
       "      <td>82391815</td>\n",
       "    </tr>\n",
       "    <tr>\n",
       "      <th>0</th>\n",
       "      <td>2016-08-01</td>\n",
       "      <td>75330163</td>\n",
       "    </tr>\n",
       "    <tr>\n",
       "      <th>5</th>\n",
       "      <td>2016-09-01</td>\n",
       "      <td>71331163</td>\n",
       "    </tr>\n",
       "    <tr>\n",
       "      <th>4</th>\n",
       "      <td>2016-10-01</td>\n",
       "      <td>77462215</td>\n",
       "    </tr>\n",
       "    <tr>\n",
       "      <th>3</th>\n",
       "      <td>2016-11-01</td>\n",
       "      <td>82041593</td>\n",
       "    </tr>\n",
       "    <tr>\n",
       "      <th>1</th>\n",
       "      <td>2016-12-01</td>\n",
       "      <td>74354620</td>\n",
       "    </tr>\n",
       "  </tbody>\n",
       "</table>\n",
       "</div>"
      ],
      "text/plain": [
       "       month  Order_Demand\n",
       "2 2016-07-01      82391815\n",
       "0 2016-08-01      75330163\n",
       "5 2016-09-01      71331163\n",
       "4 2016-10-01      77462215\n",
       "3 2016-11-01      82041593\n",
       "1 2016-12-01      74354620"
      ]
     },
     "execution_count": 23,
     "metadata": {},
     "output_type": "execute_result"
    }
   ],
   "source": [
    "df_month = df_fe.loc[df_fe['Date'] > '2016-06-30']\n",
    "df_month = df_month.loc[df_month['Date'] < '2017-01-01']\n",
    "df_month['month'] = df_month.Date.apply(lambda x: x.strftime('%Y %B'))\n",
    "df_month = df_month.groupby('month')['Order_Demand'].sum().reset_index()\n",
    "df_month['month'] = pd.to_datetime(df_month['month'])\n",
    "df_month = df_month.sort_values('month')\n",
    "df_month"
   ]
  },
  {
   "cell_type": "code",
   "execution_count": 24,
   "metadata": {
    "colab": {
     "base_uri": "https://localhost:8080/",
     "height": 235
    },
    "id": "OEdYaGmqGnXj",
    "outputId": "3a3cf6fc-2eff-4516-fee4-f2bab3855ce8"
   },
   "outputs": [
    {
     "data": {
      "text/html": [
       "<div>\n",
       "<style scoped>\n",
       "    .dataframe tbody tr th:only-of-type {\n",
       "        vertical-align: middle;\n",
       "    }\n",
       "\n",
       "    .dataframe tbody tr th {\n",
       "        vertical-align: top;\n",
       "    }\n",
       "\n",
       "    .dataframe thead th {\n",
       "        text-align: right;\n",
       "    }\n",
       "</style>\n",
       "<table border=\"1\" class=\"dataframe\">\n",
       "  <thead>\n",
       "    <tr style=\"text-align: right;\">\n",
       "      <th></th>\n",
       "      <th>month</th>\n",
       "      <th>Order_Demand</th>\n",
       "      <th>name_month</th>\n",
       "    </tr>\n",
       "  </thead>\n",
       "  <tbody>\n",
       "    <tr>\n",
       "      <th>2</th>\n",
       "      <td>7</td>\n",
       "      <td>82391815</td>\n",
       "      <td>Jul</td>\n",
       "    </tr>\n",
       "    <tr>\n",
       "      <th>0</th>\n",
       "      <td>8</td>\n",
       "      <td>75330163</td>\n",
       "      <td>Aug</td>\n",
       "    </tr>\n",
       "    <tr>\n",
       "      <th>5</th>\n",
       "      <td>9</td>\n",
       "      <td>71331163</td>\n",
       "      <td>Sep</td>\n",
       "    </tr>\n",
       "    <tr>\n",
       "      <th>4</th>\n",
       "      <td>10</td>\n",
       "      <td>77462215</td>\n",
       "      <td>Oct</td>\n",
       "    </tr>\n",
       "    <tr>\n",
       "      <th>3</th>\n",
       "      <td>11</td>\n",
       "      <td>82041593</td>\n",
       "      <td>Nov</td>\n",
       "    </tr>\n",
       "    <tr>\n",
       "      <th>1</th>\n",
       "      <td>12</td>\n",
       "      <td>74354620</td>\n",
       "      <td>Dec</td>\n",
       "    </tr>\n",
       "  </tbody>\n",
       "</table>\n",
       "</div>"
      ],
      "text/plain": [
       "   month  Order_Demand name_month\n",
       "2      7      82391815        Jul\n",
       "0      8      75330163        Aug\n",
       "5      9      71331163        Sep\n",
       "4     10      77462215        Oct\n",
       "3     11      82041593        Nov\n",
       "1     12      74354620        Dec"
      ]
     },
     "execution_count": 24,
     "metadata": {},
     "output_type": "execute_result"
    }
   ],
   "source": [
    "df_month['month'] = pd.DatetimeIndex(df_month['month']).month\n",
    "\n",
    "import calendar\n",
    "df_month['name_month'] = df_month['month'].apply(lambda x: calendar.month_abbr[x])\n",
    "df_month"
   ]
  },
  {
   "cell_type": "code",
   "execution_count": 25,
   "metadata": {
    "colab": {
     "base_uri": "https://localhost:8080/",
     "height": 305
    },
    "id": "V6EsKQVfHTsr",
    "outputId": "9a6a0180-de75-4b84-fedc-e0ead9bb5ae4"
   },
   "outputs": [
    {
     "data": {
      "image/png": "[encoded data removed]",
      "text/plain": [
       "<Figure size 1080x432 with 1 Axes>"
      ]
     },
     "metadata": {
      "needs_background": "light"
     },
     "output_type": "display_data"
    }
   ],
   "source": [
    "f, ax = plt.subplots(figsize = (15, 6))\n",
    "\n",
    "ax = sns.barplot(x = \"name_month\", \n",
    "                 y = \"Order_Demand\",\n",
    "                 data = df_month, \n",
    "                 palette = \"Blues_d\").set(xlabel='Order Month',\n",
    "                                          ylabel='Order Demand Volume (in million)')\n",
    "                 \n",
    "plt.title('Order Demand Volume by Month from July to Dec 2017', fontsize = 15, pad = 20)\n",
    "labels, locations = plt.yticks()\n",
    "plt.yticks(labels, (labels/1000000).astype(int))\n",
    "# plt.savefig('volume rev.png')\n",
    "plt.show() "
   ]
  },
  {
   "cell_type": "markdown",
   "metadata": {
    "id": "xBUlAATrPX-g"
   },
   "source": [
    "### Performing ABC Classification"
   ]
  },
  {
   "cell_type": "code",
   "execution_count": 26,
   "metadata": {
    "id": "yffBLpg-Q34k"
   },
   "outputs": [],
   "source": [
    "def abc(percentage):\n",
    "  if percentage >= 0 and percentage <= 5:\n",
    "    return 'A'\n",
    "  elif percentage > 5 and percentage <= 20:\n",
    "    return 'B'\n",
    "  else:\n",
    "    return 'C'"
   ]
  },
  {
   "cell_type": "code",
   "execution_count": 27,
   "metadata": {
    "colab": {
     "base_uri": "https://localhost:8080/",
     "height": 419
    },
    "id": "DCMIHq9BO4B_",
    "outputId": "f8674076-8017-4328-dc0d-308732b757d6"
   },
   "outputs": [
    {
     "data": {
      "text/html": [
       "<div>\n",
       "<style scoped>\n",
       "    .dataframe tbody tr th:only-of-type {\n",
       "        vertical-align: middle;\n",
       "    }\n",
       "\n",
       "    .dataframe tbody tr th {\n",
       "        vertical-align: top;\n",
       "    }\n",
       "\n",
       "    .dataframe thead th {\n",
       "        text-align: right;\n",
       "    }\n",
       "</style>\n",
       "<table border=\"1\" class=\"dataframe\">\n",
       "  <thead>\n",
       "    <tr style=\"text-align: right;\">\n",
       "      <th></th>\n",
       "      <th>Product_Code</th>\n",
       "      <th>Date</th>\n",
       "      <th>Order_Demand</th>\n",
       "    </tr>\n",
       "  </thead>\n",
       "  <tbody>\n",
       "    <tr>\n",
       "      <th>970172</th>\n",
       "      <td>Product_2144</td>\n",
       "      <td>2016-10-02</td>\n",
       "      <td>10</td>\n",
       "    </tr>\n",
       "    <tr>\n",
       "      <th>970170</th>\n",
       "      <td>Product_2136</td>\n",
       "      <td>2016-10-02</td>\n",
       "      <td>20</td>\n",
       "    </tr>\n",
       "  </tbody>\n",
       "</table>\n",
       "</div>"
      ],
      "text/plain": [
       "        Product_Code       Date  Order_Demand\n",
       "970172  Product_2144 2016-10-02            10\n",
       "970170  Product_2136 2016-10-02            20"
      ]
     },
     "execution_count": 27,
     "metadata": {},
     "output_type": "execute_result"
    }
   ],
   "source": [
    "df_3_months = df_fe.loc[df_fe['Date'] > '2016-09-30']\n",
    "df_3_months = df_3_months.loc[df_fe['Date'] < '2017']\n",
    "df_3_months.head(2)"
   ]
  },
  {
   "cell_type": "code",
   "execution_count": 117,
   "metadata": {},
   "outputs": [],
   "source": [
    "# df_3_months.to_csv('Product Demand 3 Months.csv')"
   ]
  },
  {
   "cell_type": "code",
   "execution_count": 29,
   "metadata": {},
   "outputs": [
    {
     "data": {
      "text/html": [
       "<div>\n",
       "<style scoped>\n",
       "    .dataframe tbody tr th:only-of-type {\n",
       "        vertical-align: middle;\n",
       "    }\n",
       "\n",
       "    .dataframe tbody tr th {\n",
       "        vertical-align: top;\n",
       "    }\n",
       "\n",
       "    .dataframe thead th {\n",
       "        text-align: right;\n",
       "    }\n",
       "</style>\n",
       "<table border=\"1\" class=\"dataframe\">\n",
       "  <thead>\n",
       "    <tr style=\"text-align: right;\">\n",
       "      <th></th>\n",
       "      <th>Product_Code</th>\n",
       "      <th>Date</th>\n",
       "      <th>Order_Demand</th>\n",
       "    </tr>\n",
       "  </thead>\n",
       "  <tbody>\n",
       "    <tr>\n",
       "      <th>1041269</th>\n",
       "      <td>Product_1891</td>\n",
       "      <td>2016-07-01</td>\n",
       "      <td>4</td>\n",
       "    </tr>\n",
       "    <tr>\n",
       "      <th>1029263</th>\n",
       "      <td>Product_1674</td>\n",
       "      <td>2016-07-01</td>\n",
       "      <td>6</td>\n",
       "    </tr>\n",
       "  </tbody>\n",
       "</table>\n",
       "</div>"
      ],
      "text/plain": [
       "         Product_Code       Date  Order_Demand\n",
       "1041269  Product_1891 2016-07-01             4\n",
       "1029263  Product_1674 2016-07-01             6"
      ]
     },
     "execution_count": 29,
     "metadata": {},
     "output_type": "execute_result"
    }
   ],
   "source": [
    "df_6_months = df_fe.loc[df_fe['Date'] > '2016-06-30']\n",
    "df_6_months = df_6_months.loc[df_fe['Date'] < '2017']\n",
    "df_6_months.head(2)"
   ]
  },
  {
   "cell_type": "code",
   "execution_count": 30,
   "metadata": {},
   "outputs": [],
   "source": [
    "# df_6_months.to_csv('Product Demand 6 Months.csv')"
   ]
  },
  {
   "cell_type": "code",
   "execution_count": 34,
   "metadata": {
    "id": "SuXzmUlHPuQT"
   },
   "outputs": [],
   "source": [
    "df_sum = pd.DataFrame(df_3_months['Product_Code'].value_counts().reset_index())\n",
    "df_sum = df_sum.rename({'index':'Product_Code', 'Product_Code':'order_frequency'}, axis = 1)"
   ]
  },
  {
   "cell_type": "code",
   "execution_count": 35,
   "metadata": {
    "colab": {
     "base_uri": "https://localhost:8080/",
     "height": 419
    },
    "id": "9uR22vpL6HJY",
    "outputId": "3af6d3f7-02eb-4b02-8748-e391c38905df"
   },
   "outputs": [
    {
     "data": {
      "text/html": [
       "<div>\n",
       "<style scoped>\n",
       "    .dataframe tbody tr th:only-of-type {\n",
       "        vertical-align: middle;\n",
       "    }\n",
       "\n",
       "    .dataframe tbody tr th {\n",
       "        vertical-align: top;\n",
       "    }\n",
       "\n",
       "    .dataframe thead th {\n",
       "        text-align: right;\n",
       "    }\n",
       "</style>\n",
       "<table border=\"1\" class=\"dataframe\">\n",
       "  <thead>\n",
       "    <tr style=\"text-align: right;\">\n",
       "      <th></th>\n",
       "      <th>Product_Code</th>\n",
       "      <th>order_frequency</th>\n",
       "    </tr>\n",
       "  </thead>\n",
       "  <tbody>\n",
       "    <tr>\n",
       "      <th>0</th>\n",
       "      <td>Product_1359</td>\n",
       "      <td>455</td>\n",
       "    </tr>\n",
       "    <tr>\n",
       "      <th>1</th>\n",
       "      <td>Product_1378</td>\n",
       "      <td>346</td>\n",
       "    </tr>\n",
       "  </tbody>\n",
       "</table>\n",
       "</div>"
      ],
      "text/plain": [
       "   Product_Code  order_frequency\n",
       "0  Product_1359              455\n",
       "1  Product_1378              346"
      ]
     },
     "execution_count": 35,
     "metadata": {},
     "output_type": "execute_result"
    }
   ],
   "source": [
    "df_sum.head(2)"
   ]
  },
  {
   "cell_type": "code",
   "execution_count": null,
   "metadata": {},
   "outputs": [],
   "source": []
  },
  {
   "cell_type": "markdown",
   "metadata": {
    "id": "HxImIY0QYu2A"
   },
   "source": [
    "#### Trial 1"
   ]
  },
  {
   "cell_type": "code",
   "execution_count": 36,
   "metadata": {
    "id": "wkncq0-0C5kl"
   },
   "outputs": [],
   "source": [
    "# df_freq = df_sum.copy()\n",
    "# df_freq['rank'] = df_sum.index + 1\n",
    "# # df_freq.reset_index()\n",
    "# df_freq"
   ]
  },
  {
   "cell_type": "code",
   "execution_count": 37,
   "metadata": {
    "id": "mwZlxURrQC1q"
   },
   "outputs": [],
   "source": [
    "# df_freq['freq_cumsum'] = df_freq['rank'].cumsum()\n",
    "# df_freq['freq_total'] = df_freq['rank'].sum()\n",
    "# df_freq['freq_run_perc'] = round(((df_freq['freq_cumsum'] / df_freq['freq_total']) * 100), 2)\n",
    "# df_freq"
   ]
  },
  {
   "cell_type": "code",
   "execution_count": 38,
   "metadata": {
    "id": "SkO909-vYOUK"
   },
   "outputs": [],
   "source": [
    "# df_freq.info()"
   ]
  },
  {
   "cell_type": "code",
   "execution_count": 39,
   "metadata": {
    "id": "q7JBew2tTzSH"
   },
   "outputs": [],
   "source": [
    "# df_freq['abc'] = df_freq['freq_run_perc'].apply(abc)\n",
    "# df_freq"
   ]
  },
  {
   "cell_type": "code",
   "execution_count": 40,
   "metadata": {
    "id": "NBXu7rCRZSLs"
   },
   "outputs": [],
   "source": [
    "# df_freq"
   ]
  },
  {
   "cell_type": "code",
   "execution_count": 41,
   "metadata": {
    "id": "PMsmYK0hu1W7"
   },
   "outputs": [],
   "source": [
    "# abc = df_freq.loc[:, ['Product_Code', 'order_frequency', 'abc']]\n",
    "# abc.head()"
   ]
  },
  {
   "cell_type": "code",
   "execution_count": 42,
   "metadata": {
    "id": "36HzUuFGanuM"
   },
   "outputs": [],
   "source": [
    "# df_freq['abc'].value_counts()"
   ]
  },
  {
   "cell_type": "code",
   "execution_count": 43,
   "metadata": {
    "id": "b11td9-svIjB"
   },
   "outputs": [],
   "source": [
    "# data_merge = df_3_months.merge(abc, how = 'left', on = 'Product_Code')\n",
    "# data_merge"
   ]
  },
  {
   "cell_type": "code",
   "execution_count": 44,
   "metadata": {
    "id": "QaSivS9n9_Mr"
   },
   "outputs": [],
   "source": [
    "# data_merge['abc'].value_counts()"
   ]
  },
  {
   "cell_type": "code",
   "execution_count": 45,
   "metadata": {
    "id": "SSU4TQuQ-C5F"
   },
   "outputs": [],
   "source": [
    "# data_merge.groupby('abc')['Order_Demand'].sum()"
   ]
  },
  {
   "cell_type": "code",
   "execution_count": 46,
   "metadata": {
    "id": "ZiGcMwO7LqEG"
   },
   "outputs": [],
   "source": [
    "# data_merge['Order_Demand'].sum()"
   ]
  },
  {
   "cell_type": "code",
   "execution_count": 47,
   "metadata": {
    "id": "PNec44dmKznO"
   },
   "outputs": [],
   "source": [
    "# data_merge.groupby('abc')['Product_Code'].nunique()"
   ]
  },
  {
   "cell_type": "markdown",
   "metadata": {
    "id": "OfwpWrG9Y5Ws"
   },
   "source": [
    "#### Trial 2"
   ]
  },
  {
   "cell_type": "code",
   "execution_count": 48,
   "metadata": {
    "colab": {
     "base_uri": "https://localhost:8080/",
     "height": 419
    },
    "id": "qN9YvnjhaKbk",
    "outputId": "0b15242e-47e4-48ab-dc5e-033a4a2ba0fd"
   },
   "outputs": [
    {
     "data": {
      "text/html": [
       "<div>\n",
       "<style scoped>\n",
       "    .dataframe tbody tr th:only-of-type {\n",
       "        vertical-align: middle;\n",
       "    }\n",
       "\n",
       "    .dataframe tbody tr th {\n",
       "        vertical-align: top;\n",
       "    }\n",
       "\n",
       "    .dataframe thead th {\n",
       "        text-align: right;\n",
       "    }\n",
       "</style>\n",
       "<table border=\"1\" class=\"dataframe\">\n",
       "  <thead>\n",
       "    <tr style=\"text-align: right;\">\n",
       "      <th></th>\n",
       "      <th>Product_Code</th>\n",
       "      <th>order_frequency</th>\n",
       "      <th>rank</th>\n",
       "    </tr>\n",
       "  </thead>\n",
       "  <tbody>\n",
       "    <tr>\n",
       "      <th>0</th>\n",
       "      <td>Product_1359</td>\n",
       "      <td>455</td>\n",
       "      <td>1</td>\n",
       "    </tr>\n",
       "    <tr>\n",
       "      <th>1</th>\n",
       "      <td>Product_1378</td>\n",
       "      <td>346</td>\n",
       "      <td>2</td>\n",
       "    </tr>\n",
       "  </tbody>\n",
       "</table>\n",
       "</div>"
      ],
      "text/plain": [
       "   Product_Code  order_frequency  rank\n",
       "0  Product_1359              455     1\n",
       "1  Product_1378              346     2"
      ]
     },
     "execution_count": 48,
     "metadata": {},
     "output_type": "execute_result"
    }
   ],
   "source": [
    "df_try = df_sum.copy()\n",
    "df_try['rank'] = df_sum.index + 1\n",
    "# df_freq.reset_index()\n",
    "df_try.head(2)"
   ]
  },
  {
   "cell_type": "code",
   "execution_count": 49,
   "metadata": {
    "colab": {
     "base_uri": "https://localhost:8080/",
     "height": 419
    },
    "id": "G0KW7yuua7Mp",
    "outputId": "70781e21-7ba3-4592-c8af-d86d48ef6c74"
   },
   "outputs": [
    {
     "data": {
      "text/html": [
       "<div>\n",
       "<style scoped>\n",
       "    .dataframe tbody tr th:only-of-type {\n",
       "        vertical-align: middle;\n",
       "    }\n",
       "\n",
       "    .dataframe tbody tr th {\n",
       "        vertical-align: top;\n",
       "    }\n",
       "\n",
       "    .dataframe thead th {\n",
       "        text-align: right;\n",
       "    }\n",
       "</style>\n",
       "<table border=\"1\" class=\"dataframe\">\n",
       "  <thead>\n",
       "    <tr style=\"text-align: right;\">\n",
       "      <th></th>\n",
       "      <th>Product_Code</th>\n",
       "      <th>order_frequency</th>\n",
       "      <th>rank</th>\n",
       "      <th>total</th>\n",
       "    </tr>\n",
       "  </thead>\n",
       "  <tbody>\n",
       "    <tr>\n",
       "      <th>0</th>\n",
       "      <td>Product_1359</td>\n",
       "      <td>455</td>\n",
       "      <td>1</td>\n",
       "      <td>2077</td>\n",
       "    </tr>\n",
       "    <tr>\n",
       "      <th>1</th>\n",
       "      <td>Product_1378</td>\n",
       "      <td>346</td>\n",
       "      <td>2</td>\n",
       "      <td>2077</td>\n",
       "    </tr>\n",
       "  </tbody>\n",
       "</table>\n",
       "</div>"
      ],
      "text/plain": [
       "   Product_Code  order_frequency  rank  total\n",
       "0  Product_1359              455     1   2077\n",
       "1  Product_1378              346     2   2077"
      ]
     },
     "execution_count": 49,
     "metadata": {},
     "output_type": "execute_result"
    }
   ],
   "source": [
    "df_try['total'] = len(df_try)\n",
    "df_try.head(2)"
   ]
  },
  {
   "cell_type": "code",
   "execution_count": 50,
   "metadata": {
    "colab": {
     "base_uri": "https://localhost:8080/",
     "height": 419
    },
    "id": "_ffWDSd3a_Jg",
    "outputId": "b32ff4f0-64f8-4d7c-e6a0-9f9d18d18278"
   },
   "outputs": [
    {
     "data": {
      "text/html": [
       "<div>\n",
       "<style scoped>\n",
       "    .dataframe tbody tr th:only-of-type {\n",
       "        vertical-align: middle;\n",
       "    }\n",
       "\n",
       "    .dataframe tbody tr th {\n",
       "        vertical-align: top;\n",
       "    }\n",
       "\n",
       "    .dataframe thead th {\n",
       "        text-align: right;\n",
       "    }\n",
       "</style>\n",
       "<table border=\"1\" class=\"dataframe\">\n",
       "  <thead>\n",
       "    <tr style=\"text-align: right;\">\n",
       "      <th></th>\n",
       "      <th>Product_Code</th>\n",
       "      <th>order_frequency</th>\n",
       "      <th>rank</th>\n",
       "      <th>total</th>\n",
       "      <th>rank_cumsum</th>\n",
       "    </tr>\n",
       "  </thead>\n",
       "  <tbody>\n",
       "    <tr>\n",
       "      <th>0</th>\n",
       "      <td>Product_1359</td>\n",
       "      <td>455</td>\n",
       "      <td>1</td>\n",
       "      <td>2077</td>\n",
       "      <td>0.05</td>\n",
       "    </tr>\n",
       "    <tr>\n",
       "      <th>1</th>\n",
       "      <td>Product_1378</td>\n",
       "      <td>346</td>\n",
       "      <td>2</td>\n",
       "      <td>2077</td>\n",
       "      <td>0.10</td>\n",
       "    </tr>\n",
       "  </tbody>\n",
       "</table>\n",
       "</div>"
      ],
      "text/plain": [
       "   Product_Code  order_frequency  rank  total  rank_cumsum\n",
       "0  Product_1359              455     1   2077         0.05\n",
       "1  Product_1378              346     2   2077         0.10"
      ]
     },
     "execution_count": 50,
     "metadata": {},
     "output_type": "execute_result"
    }
   ],
   "source": [
    "df_try['rank_cumsum'] = round(((df_try['rank'] / df_try['total']) * 100), 2)\n",
    "df_try.head(2)"
   ]
  },
  {
   "cell_type": "code",
   "execution_count": 51,
   "metadata": {
    "colab": {
     "base_uri": "https://localhost:8080/",
     "height": 419
    },
    "id": "kwdTsIC2bT1X",
    "outputId": "98c31de0-e888-45f0-ee16-fb14d2ccdc29"
   },
   "outputs": [
    {
     "data": {
      "text/html": [
       "<div>\n",
       "<style scoped>\n",
       "    .dataframe tbody tr th:only-of-type {\n",
       "        vertical-align: middle;\n",
       "    }\n",
       "\n",
       "    .dataframe tbody tr th {\n",
       "        vertical-align: top;\n",
       "    }\n",
       "\n",
       "    .dataframe thead th {\n",
       "        text-align: right;\n",
       "    }\n",
       "</style>\n",
       "<table border=\"1\" class=\"dataframe\">\n",
       "  <thead>\n",
       "    <tr style=\"text-align: right;\">\n",
       "      <th></th>\n",
       "      <th>Product_Code</th>\n",
       "      <th>order_frequency</th>\n",
       "      <th>rank</th>\n",
       "      <th>total</th>\n",
       "      <th>rank_cumsum</th>\n",
       "      <th>class</th>\n",
       "    </tr>\n",
       "  </thead>\n",
       "  <tbody>\n",
       "    <tr>\n",
       "      <th>0</th>\n",
       "      <td>Product_1359</td>\n",
       "      <td>455</td>\n",
       "      <td>1</td>\n",
       "      <td>2077</td>\n",
       "      <td>0.05</td>\n",
       "      <td>A</td>\n",
       "    </tr>\n",
       "    <tr>\n",
       "      <th>1</th>\n",
       "      <td>Product_1378</td>\n",
       "      <td>346</td>\n",
       "      <td>2</td>\n",
       "      <td>2077</td>\n",
       "      <td>0.10</td>\n",
       "      <td>A</td>\n",
       "    </tr>\n",
       "  </tbody>\n",
       "</table>\n",
       "</div>"
      ],
      "text/plain": [
       "   Product_Code  order_frequency  rank  total  rank_cumsum class\n",
       "0  Product_1359              455     1   2077         0.05     A\n",
       "1  Product_1378              346     2   2077         0.10     A"
      ]
     },
     "execution_count": 51,
     "metadata": {},
     "output_type": "execute_result"
    }
   ],
   "source": [
    "df_try['class'] = df_try['rank_cumsum'].apply(abc)\n",
    "df_try.head(2)"
   ]
  },
  {
   "cell_type": "code",
   "execution_count": 52,
   "metadata": {
    "colab": {
     "base_uri": "https://localhost:8080/",
     "height": 142
    },
    "id": "KTTkEf_lbal0",
    "outputId": "1b9a2563-a4d2-46b2-ba9b-3f41183f4549"
   },
   "outputs": [
    {
     "data": {
      "text/html": [
       "<div>\n",
       "<style scoped>\n",
       "    .dataframe tbody tr th:only-of-type {\n",
       "        vertical-align: middle;\n",
       "    }\n",
       "\n",
       "    .dataframe tbody tr th {\n",
       "        vertical-align: top;\n",
       "    }\n",
       "\n",
       "    .dataframe thead th {\n",
       "        text-align: right;\n",
       "    }\n",
       "</style>\n",
       "<table border=\"1\" class=\"dataframe\">\n",
       "  <thead>\n",
       "    <tr style=\"text-align: right;\">\n",
       "      <th></th>\n",
       "      <th>class</th>\n",
       "      <th>class_counts</th>\n",
       "    </tr>\n",
       "  </thead>\n",
       "  <tbody>\n",
       "    <tr>\n",
       "      <th>0</th>\n",
       "      <td>A</td>\n",
       "      <td>103</td>\n",
       "    </tr>\n",
       "    <tr>\n",
       "      <th>1</th>\n",
       "      <td>B</td>\n",
       "      <td>312</td>\n",
       "    </tr>\n",
       "    <tr>\n",
       "      <th>2</th>\n",
       "      <td>C</td>\n",
       "      <td>1662</td>\n",
       "    </tr>\n",
       "  </tbody>\n",
       "</table>\n",
       "</div>"
      ],
      "text/plain": [
       "  class  class_counts\n",
       "0     A           103\n",
       "1     B           312\n",
       "2     C          1662"
      ]
     },
     "execution_count": 52,
     "metadata": {},
     "output_type": "execute_result"
    }
   ],
   "source": [
    "class_counts = pd.DataFrame(df_try['class'].value_counts().sort_values().reset_index())\n",
    "class_counts = class_counts.rename(columns={'index':'class', 'class':'class_counts'})\n",
    "class_counts"
   ]
  },
  {
   "cell_type": "code",
   "execution_count": 53,
   "metadata": {
    "colab": {
     "base_uri": "https://localhost:8080/",
     "height": 419
    },
    "id": "GXgjEGGpbdjt",
    "outputId": "0c70f499-e6d2-4026-c26f-5c3dd5104a95"
   },
   "outputs": [
    {
     "data": {
      "text/html": [
       "<div>\n",
       "<style scoped>\n",
       "    .dataframe tbody tr th:only-of-type {\n",
       "        vertical-align: middle;\n",
       "    }\n",
       "\n",
       "    .dataframe tbody tr th {\n",
       "        vertical-align: top;\n",
       "    }\n",
       "\n",
       "    .dataframe thead th {\n",
       "        text-align: right;\n",
       "    }\n",
       "</style>\n",
       "<table border=\"1\" class=\"dataframe\">\n",
       "  <thead>\n",
       "    <tr style=\"text-align: right;\">\n",
       "      <th></th>\n",
       "      <th>Product_Code</th>\n",
       "      <th>order_frequency</th>\n",
       "      <th>class</th>\n",
       "    </tr>\n",
       "  </thead>\n",
       "  <tbody>\n",
       "    <tr>\n",
       "      <th>0</th>\n",
       "      <td>Product_1359</td>\n",
       "      <td>455</td>\n",
       "      <td>A</td>\n",
       "    </tr>\n",
       "    <tr>\n",
       "      <th>1</th>\n",
       "      <td>Product_1378</td>\n",
       "      <td>346</td>\n",
       "      <td>A</td>\n",
       "    </tr>\n",
       "  </tbody>\n",
       "</table>\n",
       "</div>"
      ],
      "text/plain": [
       "   Product_Code  order_frequency class\n",
       "0  Product_1359              455     A\n",
       "1  Product_1378              346     A"
      ]
     },
     "execution_count": 53,
     "metadata": {},
     "output_type": "execute_result"
    }
   ],
   "source": [
    "classified = df_try.loc[:, ['Product_Code', 'order_frequency', 'class']]\n",
    "classified.loc[classified['class'] == 'A'].head(2)"
   ]
  },
  {
   "cell_type": "code",
   "execution_count": 54,
   "metadata": {
    "colab": {
     "base_uri": "https://localhost:8080/",
     "height": 142
    },
    "id": "tk6oT7ihmtlP",
    "outputId": "74cda8eb-203a-4464-f497-b574f82b3d4c"
   },
   "outputs": [
    {
     "data": {
      "text/html": [
       "<div>\n",
       "<style scoped>\n",
       "    .dataframe tbody tr th:only-of-type {\n",
       "        vertical-align: middle;\n",
       "    }\n",
       "\n",
       "    .dataframe tbody tr th {\n",
       "        vertical-align: top;\n",
       "    }\n",
       "\n",
       "    .dataframe thead th {\n",
       "        text-align: right;\n",
       "    }\n",
       "</style>\n",
       "<table border=\"1\" class=\"dataframe\">\n",
       "  <thead>\n",
       "    <tr style=\"text-align: right;\">\n",
       "      <th></th>\n",
       "      <th>class</th>\n",
       "      <th>order_frequency</th>\n",
       "    </tr>\n",
       "  </thead>\n",
       "  <tbody>\n",
       "    <tr>\n",
       "      <th>0</th>\n",
       "      <td>A</td>\n",
       "      <td>14913</td>\n",
       "    </tr>\n",
       "    <tr>\n",
       "      <th>1</th>\n",
       "      <td>B</td>\n",
       "      <td>13637</td>\n",
       "    </tr>\n",
       "    <tr>\n",
       "      <th>2</th>\n",
       "      <td>C</td>\n",
       "      <td>15303</td>\n",
       "    </tr>\n",
       "  </tbody>\n",
       "</table>\n",
       "</div>"
      ],
      "text/plain": [
       "  class  order_frequency\n",
       "0     A            14913\n",
       "1     B            13637\n",
       "2     C            15303"
      ]
     },
     "execution_count": 54,
     "metadata": {},
     "output_type": "execute_result"
    }
   ],
   "source": [
    "demand_freq = pd.DataFrame(classified.groupby('class')['order_frequency'].sum())\n",
    "demand_freq = demand_freq.reset_index()\n",
    "demand_freq"
   ]
  },
  {
   "cell_type": "code",
   "execution_count": 55,
   "metadata": {
    "colab": {
     "base_uri": "https://localhost:8080/",
     "height": 404
    },
    "id": "IcuiNLMLnP5s",
    "outputId": "a30d446c-e4ed-409b-88e7-822842e1ee35"
   },
   "outputs": [
    {
     "data": {
      "image/png": "[encoded data removed]",
      "text/plain": [
       "<Figure size 720x432 with 1 Axes>"
      ]
     },
     "metadata": {},
     "output_type": "display_data"
    }
   ],
   "source": [
    "sns.set_style('whitegrid')\n",
    "bar, ax = plt.subplots(figsize=(10, 6))\n",
    "ax = sns.barplot(x = demand_freq['class'], y = demand_freq['order_frequency'], data = demand_freq, ci = None, palette = \"muted\", orient = 'v')\n",
    "ax.set_title(\"ABC Class Order Demand Frequency Total\", fontsize = 15)\n",
    "ax.set_xlabel(\"Class\")\n",
    "ax.set_ylabel(\"Demand Frequency\")\n",
    "\n",
    "labels, locations = plt.yticks()\n",
    "plt.yticks(labels, (labels/1).astype(int))\n",
    "# plt.savefig('order demand freq.png')\n",
    "plt.show()"
   ]
  },
  {
   "cell_type": "code",
   "execution_count": 56,
   "metadata": {
    "colab": {
     "base_uri": "https://localhost:8080/",
     "height": 419
    },
    "id": "hP1b5lIHcghq",
    "outputId": "4fe6f137-9454-46fa-c654-d26917a6395f"
   },
   "outputs": [
    {
     "data": {
      "text/html": [
       "<div>\n",
       "<style scoped>\n",
       "    .dataframe tbody tr th:only-of-type {\n",
       "        vertical-align: middle;\n",
       "    }\n",
       "\n",
       "    .dataframe tbody tr th {\n",
       "        vertical-align: top;\n",
       "    }\n",
       "\n",
       "    .dataframe thead th {\n",
       "        text-align: right;\n",
       "    }\n",
       "</style>\n",
       "<table border=\"1\" class=\"dataframe\">\n",
       "  <thead>\n",
       "    <tr style=\"text-align: right;\">\n",
       "      <th></th>\n",
       "      <th>Product_Code</th>\n",
       "      <th>Date</th>\n",
       "      <th>Order_Demand</th>\n",
       "      <th>order_frequency</th>\n",
       "      <th>class</th>\n",
       "    </tr>\n",
       "  </thead>\n",
       "  <tbody>\n",
       "    <tr>\n",
       "      <th>0</th>\n",
       "      <td>Product_2144</td>\n",
       "      <td>2016-10-02</td>\n",
       "      <td>10</td>\n",
       "      <td>26</td>\n",
       "      <td>B</td>\n",
       "    </tr>\n",
       "    <tr>\n",
       "      <th>1</th>\n",
       "      <td>Product_2136</td>\n",
       "      <td>2016-10-02</td>\n",
       "      <td>20</td>\n",
       "      <td>20</td>\n",
       "      <td>C</td>\n",
       "    </tr>\n",
       "  </tbody>\n",
       "</table>\n",
       "</div>"
      ],
      "text/plain": [
       "   Product_Code       Date  Order_Demand  order_frequency class\n",
       "0  Product_2144 2016-10-02            10               26     B\n",
       "1  Product_2136 2016-10-02            20               20     C"
      ]
     },
     "execution_count": 56,
     "metadata": {},
     "output_type": "execute_result"
    }
   ],
   "source": [
    "merge = df_3_months.merge(classified, how = 'left', on = 'Product_Code')\n",
    "merge.head(2)"
   ]
  },
  {
   "cell_type": "code",
   "execution_count": 57,
   "metadata": {
    "colab": {
     "base_uri": "https://localhost:8080/"
    },
    "id": "F5Zpd7Kwc8kX",
    "outputId": "76b6c2ef-28f7-4509-b008-0a84d5610688"
   },
   "outputs": [
    {
     "data": {
      "text/plain": [
       "class\n",
       "A     103\n",
       "B     312\n",
       "C    1662\n",
       "Name: Product_Code, dtype: int64"
      ]
     },
     "execution_count": 57,
     "metadata": {},
     "output_type": "execute_result"
    }
   ],
   "source": [
    "class_perc = merge.groupby('class')['Product_Code'].nunique()\n",
    "class_perc"
   ]
  },
  {
   "cell_type": "code",
   "execution_count": 58,
   "metadata": {
    "colab": {
     "base_uri": "https://localhost:8080/",
     "height": 375
    },
    "id": "vNQj5bm2fC_n",
    "outputId": "07e6150a-74e3-4bd9-e575-1dd22657bbd3"
   },
   "outputs": [
    {
     "data": {
      "image/png": "[encoded data removed]",
      "text/plain": [
       "<Figure size 720x432 with 1 Axes>"
      ]
     },
     "metadata": {},
     "output_type": "display_data"
    }
   ],
   "source": [
    "pie, ax = plt.subplots(figsize = [10, 6])\n",
    "labels = class_perc.keys()\n",
    "colors = sns.color_palette('pastel')[0:5]\n",
    "plt.pie(x = class_perc, autopct=\"%.1f%%\",\n",
    "        colors = colors, explode=[0.05]*3,\n",
    "        labels = labels, pctdistance = 0.6)\n",
    "plt.title(\"ABC Class by Percentage\", fontsize = 15)\n",
    "# plt.savefig('abc percentage.png')\n",
    "plt.show()"
   ]
  },
  {
   "cell_type": "code",
   "execution_count": 59,
   "metadata": {
    "colab": {
     "base_uri": "https://localhost:8080/",
     "height": 142
    },
    "id": "siEAoe_cctcn",
    "outputId": "32f097e4-7d26-40aa-b629-93ba01326761"
   },
   "outputs": [
    {
     "data": {
      "text/html": [
       "<div>\n",
       "<style scoped>\n",
       "    .dataframe tbody tr th:only-of-type {\n",
       "        vertical-align: middle;\n",
       "    }\n",
       "\n",
       "    .dataframe tbody tr th {\n",
       "        vertical-align: top;\n",
       "    }\n",
       "\n",
       "    .dataframe thead th {\n",
       "        text-align: right;\n",
       "    }\n",
       "</style>\n",
       "<table border=\"1\" class=\"dataframe\">\n",
       "  <thead>\n",
       "    <tr style=\"text-align: right;\">\n",
       "      <th></th>\n",
       "      <th>class</th>\n",
       "      <th>Order_Demand</th>\n",
       "    </tr>\n",
       "  </thead>\n",
       "  <tbody>\n",
       "    <tr>\n",
       "      <th>0</th>\n",
       "      <td>A</td>\n",
       "      <td>136533351</td>\n",
       "    </tr>\n",
       "    <tr>\n",
       "      <th>1</th>\n",
       "      <td>B</td>\n",
       "      <td>55168000</td>\n",
       "    </tr>\n",
       "    <tr>\n",
       "      <th>2</th>\n",
       "      <td>C</td>\n",
       "      <td>42157077</td>\n",
       "    </tr>\n",
       "  </tbody>\n",
       "</table>\n",
       "</div>"
      ],
      "text/plain": [
       "  class  Order_Demand\n",
       "0     A     136533351\n",
       "1     B      55168000\n",
       "2     C      42157077"
      ]
     },
     "execution_count": 59,
     "metadata": {},
     "output_type": "execute_result"
    }
   ],
   "source": [
    "demand_total = pd.DataFrame(merge.groupby('class')['Order_Demand'].sum().reset_index())\n",
    "demand_total"
   ]
  },
  {
   "cell_type": "code",
   "execution_count": 60,
   "metadata": {
    "colab": {
     "base_uri": "https://localhost:8080/"
    },
    "id": "xGNvnZgKWI7i",
    "outputId": "710501df-bf74-49f1-9043-002dc82fab47"
   },
   "outputs": [
    {
     "data": {
      "text/plain": [
       "class\n",
       "A    136533351\n",
       "B     55168000\n",
       "C     42157077\n",
       "Name: Order_Demand, dtype: int32"
      ]
     },
     "execution_count": 60,
     "metadata": {},
     "output_type": "execute_result"
    }
   ],
   "source": [
    "demand_perc = merge.groupby('class')['Order_Demand'].sum()\n",
    "demand_perc"
   ]
  },
  {
   "cell_type": "code",
   "execution_count": 61,
   "metadata": {
    "colab": {
     "base_uri": "https://localhost:8080/",
     "height": 375
    },
    "id": "azFsdzZ4hhtO",
    "outputId": "2396ad01-d578-4123-d145-7cf64b704cc4"
   },
   "outputs": [
    {
     "data": {
      "image/png": "[encoded data removed]",
      "text/plain": [
       "<Figure size 720x432 with 1 Axes>"
      ]
     },
     "metadata": {},
     "output_type": "display_data"
    }
   ],
   "source": [
    "pie, ax = plt.subplots(figsize = [10, 6])\n",
    "labels = demand_perc.keys()\n",
    "colors = sns.color_palette('pastel')[0:5]\n",
    "plt.pie(x = demand_perc, autopct=\"%.1f%%\",\n",
    "        colors = colors, explode=[0.05]*3,\n",
    "        labels = labels, pctdistance = 0.6)\n",
    "plt.title(\"ABC Class Demand Volume by Percentage\", fontsize = 15)\n",
    "# plt.savefig('demand percentage.png')\n",
    "plt.show()"
   ]
  },
  {
   "cell_type": "code",
   "execution_count": 62,
   "metadata": {
    "colab": {
     "base_uri": "https://localhost:8080/",
     "height": 410
    },
    "id": "C77H4099b1dd",
    "outputId": "8cd832c3-07a9-4ac8-8b82-e9ae87911944"
   },
   "outputs": [
    {
     "data": {
      "image/png": "[encoded data removed]",
      "text/plain": [
       "<Figure size 720x432 with 1 Axes>"
      ]
     },
     "metadata": {},
     "output_type": "display_data"
    }
   ],
   "source": [
    "sns.set_style('whitegrid')\n",
    "bar, ax = plt.subplots(figsize=(10, 6))\n",
    "ax = sns.barplot(x = demand_total['class'], y = demand_total['Order_Demand'], data = demand_total, ci = None, palette = \"muted\", orient = 'v')\n",
    "ax.set_title(\"ABC Class Order Demand Volume Total\", fontsize = 15)\n",
    "ax.set_xlabel(\"Class\")\n",
    "ax.set_ylabel(\"Demand Volume (in million)\")\n",
    "\n",
    "labels, locations = plt.yticks()\n",
    "plt.yticks(labels, (labels/1000000).astype(int))\n",
    "# plt.savefig('abc demand value.png')\n",
    "plt.show()"
   ]
  },
  {
   "cell_type": "markdown",
   "metadata": {
    "id": "gaIF2eVoJu-V"
   },
   "source": [
    "### Performing XYZ Classification"
   ]
  },
  {
   "cell_type": "code",
   "execution_count": 63,
   "metadata": {
    "id": "02aafkYBfv6O"
   },
   "outputs": [],
   "source": [
    "data_month = df_3_months.copy()\n",
    "# data_month = data_month.reset_index()"
   ]
  },
  {
   "cell_type": "code",
   "execution_count": 64,
   "metadata": {
    "id": "XG5fdo0VLw0R"
   },
   "outputs": [],
   "source": [
    "data_month['Date'] = pd.to_datetime(data_month['Date'])\n",
    "# data_month = data_month[data_month['Date'] < '2017']"
   ]
  },
  {
   "cell_type": "code",
   "execution_count": 65,
   "metadata": {
    "colab": {
     "base_uri": "https://localhost:8080/",
     "height": 419
    },
    "id": "qJGW0_X_J7-8",
    "outputId": "1be26dc5-0ca9-47e7-be9c-bd92affb4c63"
   },
   "outputs": [
    {
     "data": {
      "text/html": [
       "<div>\n",
       "<style scoped>\n",
       "    .dataframe tbody tr th:only-of-type {\n",
       "        vertical-align: middle;\n",
       "    }\n",
       "\n",
       "    .dataframe tbody tr th {\n",
       "        vertical-align: top;\n",
       "    }\n",
       "\n",
       "    .dataframe thead th {\n",
       "        text-align: right;\n",
       "    }\n",
       "</style>\n",
       "<table border=\"1\" class=\"dataframe\">\n",
       "  <thead>\n",
       "    <tr style=\"text-align: right;\">\n",
       "      <th></th>\n",
       "      <th>Product_Code</th>\n",
       "      <th>Date</th>\n",
       "      <th>Order_Demand</th>\n",
       "    </tr>\n",
       "  </thead>\n",
       "  <tbody>\n",
       "    <tr>\n",
       "      <th>970172</th>\n",
       "      <td>Product_2144</td>\n",
       "      <td>2016-10-02</td>\n",
       "      <td>10</td>\n",
       "    </tr>\n",
       "    <tr>\n",
       "      <th>970170</th>\n",
       "      <td>Product_2136</td>\n",
       "      <td>2016-10-02</td>\n",
       "      <td>20</td>\n",
       "    </tr>\n",
       "  </tbody>\n",
       "</table>\n",
       "</div>"
      ],
      "text/plain": [
       "        Product_Code       Date  Order_Demand\n",
       "970172  Product_2144 2016-10-02            10\n",
       "970170  Product_2136 2016-10-02            20"
      ]
     },
     "execution_count": 65,
     "metadata": {},
     "output_type": "execute_result"
    }
   ],
   "source": [
    "data_month.head(2)"
   ]
  },
  {
   "cell_type": "code",
   "execution_count": 66,
   "metadata": {
    "colab": {
     "base_uri": "https://localhost:8080/"
    },
    "id": "FoNWdiWYKUFt",
    "outputId": "da3a0ce4-032a-4058-9079-403e959443a8"
   },
   "outputs": [
    {
     "name": "stdout",
     "output_type": "stream",
     "text": [
      "<class 'pandas.core.frame.DataFrame'>\n",
      "Int64Index: 43853 entries, 970172 to 999914\n",
      "Data columns (total 3 columns):\n",
      " #   Column        Non-Null Count  Dtype         \n",
      "---  ------        --------------  -----         \n",
      " 0   Product_Code  43853 non-null  object        \n",
      " 1   Date          43853 non-null  datetime64[ns]\n",
      " 2   Order_Demand  43853 non-null  int32         \n",
      "dtypes: datetime64[ns](1), int32(1), object(1)\n",
      "memory usage: 1.2+ MB\n"
     ]
    }
   ],
   "source": [
    "data_month.info()"
   ]
  },
  {
   "cell_type": "code",
   "execution_count": 67,
   "metadata": {
    "colab": {
     "base_uri": "https://localhost:8080/",
     "height": 419
    },
    "id": "PJEmxgc-KNo5",
    "outputId": "c85fe1fe-6117-4667-bffd-375c456d898d"
   },
   "outputs": [
    {
     "data": {
      "text/html": [
       "<div>\n",
       "<style scoped>\n",
       "    .dataframe tbody tr th:only-of-type {\n",
       "        vertical-align: middle;\n",
       "    }\n",
       "\n",
       "    .dataframe tbody tr th {\n",
       "        vertical-align: top;\n",
       "    }\n",
       "\n",
       "    .dataframe thead th {\n",
       "        text-align: right;\n",
       "    }\n",
       "</style>\n",
       "<table border=\"1\" class=\"dataframe\">\n",
       "  <thead>\n",
       "    <tr style=\"text-align: right;\">\n",
       "      <th></th>\n",
       "      <th>Product_Code</th>\n",
       "      <th>Date</th>\n",
       "      <th>Order_Demand</th>\n",
       "      <th>month</th>\n",
       "    </tr>\n",
       "  </thead>\n",
       "  <tbody>\n",
       "    <tr>\n",
       "      <th>970172</th>\n",
       "      <td>Product_2144</td>\n",
       "      <td>2016-10-02</td>\n",
       "      <td>10</td>\n",
       "      <td>October</td>\n",
       "    </tr>\n",
       "    <tr>\n",
       "      <th>970170</th>\n",
       "      <td>Product_2136</td>\n",
       "      <td>2016-10-02</td>\n",
       "      <td>20</td>\n",
       "      <td>October</td>\n",
       "    </tr>\n",
       "  </tbody>\n",
       "</table>\n",
       "</div>"
      ],
      "text/plain": [
       "        Product_Code       Date  Order_Demand    month\n",
       "970172  Product_2144 2016-10-02            10  October\n",
       "970170  Product_2136 2016-10-02            20  October"
      ]
     },
     "execution_count": 67,
     "metadata": {},
     "output_type": "execute_result"
    }
   ],
   "source": [
    "data_month['month'] = data_month.Date.apply(lambda x: x.strftime('%B'))\n",
    "data_month.head(2)"
   ]
  },
  {
   "cell_type": "code",
   "execution_count": 68,
   "metadata": {
    "colab": {
     "base_uri": "https://localhost:8080/",
     "height": 419
    },
    "id": "n1Pc3xEHO3yH",
    "outputId": "e144f389-ee75-4f27-ce75-d1e83847099e"
   },
   "outputs": [
    {
     "data": {
      "text/html": [
       "<div>\n",
       "<style scoped>\n",
       "    .dataframe tbody tr th:only-of-type {\n",
       "        vertical-align: middle;\n",
       "    }\n",
       "\n",
       "    .dataframe tbody tr th {\n",
       "        vertical-align: top;\n",
       "    }\n",
       "\n",
       "    .dataframe thead th {\n",
       "        text-align: right;\n",
       "    }\n",
       "</style>\n",
       "<table border=\"1\" class=\"dataframe\">\n",
       "  <thead>\n",
       "    <tr style=\"text-align: right;\">\n",
       "      <th></th>\n",
       "      <th>Product_Code</th>\n",
       "      <th>month</th>\n",
       "      <th>Order_Demand</th>\n",
       "    </tr>\n",
       "  </thead>\n",
       "  <tbody>\n",
       "    <tr>\n",
       "      <th>0</th>\n",
       "      <td>Product_0001</td>\n",
       "      <td>December</td>\n",
       "      <td>1700</td>\n",
       "    </tr>\n",
       "    <tr>\n",
       "      <th>1</th>\n",
       "      <td>Product_0001</td>\n",
       "      <td>November</td>\n",
       "      <td>600</td>\n",
       "    </tr>\n",
       "  </tbody>\n",
       "</table>\n",
       "</div>"
      ],
      "text/plain": [
       "   Product_Code     month  Order_Demand\n",
       "0  Product_0001  December          1700\n",
       "1  Product_0001  November           600"
      ]
     },
     "execution_count": 68,
     "metadata": {},
     "output_type": "execute_result"
    }
   ],
   "source": [
    "data_group = pd.DataFrame(data_month.groupby(['Product_Code', 'month'])['Order_Demand'].sum())\n",
    "data_group = data_group.reset_index()\n",
    "# data_group['month_date'] = pd.to_datetime(data_group['month'])\n",
    "# data_group = data_group.sort_values('month_date')\n",
    "data_group.head(2)"
   ]
  },
  {
   "cell_type": "markdown",
   "metadata": {
    "id": "CfQznGN3SbrZ"
   },
   "source": [
    "#### Making Data Pivot"
   ]
  },
  {
   "cell_type": "code",
   "execution_count": 69,
   "metadata": {
    "colab": {
     "base_uri": "https://localhost:8080/",
     "height": 450
    },
    "id": "su4mysX3KoPq",
    "outputId": "2a6ecadb-0f57-4cfe-c488-1da3ea5ae371"
   },
   "outputs": [
    {
     "data": {
      "text/html": [
       "<div>\n",
       "<style scoped>\n",
       "    .dataframe tbody tr th:only-of-type {\n",
       "        vertical-align: middle;\n",
       "    }\n",
       "\n",
       "    .dataframe tbody tr th {\n",
       "        vertical-align: top;\n",
       "    }\n",
       "\n",
       "    .dataframe thead th {\n",
       "        text-align: right;\n",
       "    }\n",
       "</style>\n",
       "<table border=\"1\" class=\"dataframe\">\n",
       "  <thead>\n",
       "    <tr style=\"text-align: right;\">\n",
       "      <th>month</th>\n",
       "      <th>December</th>\n",
       "      <th>November</th>\n",
       "      <th>October</th>\n",
       "    </tr>\n",
       "    <tr>\n",
       "      <th>Product_Code</th>\n",
       "      <th></th>\n",
       "      <th></th>\n",
       "      <th></th>\n",
       "    </tr>\n",
       "  </thead>\n",
       "  <tbody>\n",
       "    <tr>\n",
       "      <th>Product_0001</th>\n",
       "      <td>1700.0</td>\n",
       "      <td>600.0</td>\n",
       "      <td>2100.0</td>\n",
       "    </tr>\n",
       "    <tr>\n",
       "      <th>Product_0002</th>\n",
       "      <td>137000.0</td>\n",
       "      <td>59000.0</td>\n",
       "      <td>72500.0</td>\n",
       "    </tr>\n",
       "  </tbody>\n",
       "</table>\n",
       "</div>"
      ],
      "text/plain": [
       "month         December  November  October\n",
       "Product_Code                             \n",
       "Product_0001    1700.0     600.0   2100.0\n",
       "Product_0002  137000.0   59000.0  72500.0"
      ]
     },
     "execution_count": 69,
     "metadata": {},
     "output_type": "execute_result"
    }
   ],
   "source": [
    "data_pivot = data_group.copy()\n",
    "data_pivot = data_pivot.pivot(index='Product_Code', columns = 'month', values = 'Order_Demand')\n",
    "data_pivot = data_pivot.fillna(0)\n",
    "data_pivot.head(2)"
   ]
  },
  {
   "cell_type": "code",
   "execution_count": 70,
   "metadata": {
    "colab": {
     "base_uri": "https://localhost:8080/",
     "height": 450
    },
    "id": "RbOteafzOqXZ",
    "outputId": "2365a098-7a84-421a-8105-dea98689b5ac"
   },
   "outputs": [
    {
     "data": {
      "text/html": [
       "<div>\n",
       "<style scoped>\n",
       "    .dataframe tbody tr th:only-of-type {\n",
       "        vertical-align: middle;\n",
       "    }\n",
       "\n",
       "    .dataframe tbody tr th {\n",
       "        vertical-align: top;\n",
       "    }\n",
       "\n",
       "    .dataframe thead th {\n",
       "        text-align: right;\n",
       "    }\n",
       "</style>\n",
       "<table border=\"1\" class=\"dataframe\">\n",
       "  <thead>\n",
       "    <tr style=\"text-align: right;\">\n",
       "      <th>month</th>\n",
       "      <th>October</th>\n",
       "      <th>November</th>\n",
       "      <th>December</th>\n",
       "    </tr>\n",
       "    <tr>\n",
       "      <th>Product_Code</th>\n",
       "      <th></th>\n",
       "      <th></th>\n",
       "      <th></th>\n",
       "    </tr>\n",
       "  </thead>\n",
       "  <tbody>\n",
       "    <tr>\n",
       "      <th>Product_0001</th>\n",
       "      <td>2100.0</td>\n",
       "      <td>600.0</td>\n",
       "      <td>1700.0</td>\n",
       "    </tr>\n",
       "    <tr>\n",
       "      <th>Product_0002</th>\n",
       "      <td>72500.0</td>\n",
       "      <td>59000.0</td>\n",
       "      <td>137000.0</td>\n",
       "    </tr>\n",
       "  </tbody>\n",
       "</table>\n",
       "</div>"
      ],
      "text/plain": [
       "month         October  November  December\n",
       "Product_Code                             \n",
       "Product_0001   2100.0     600.0    1700.0\n",
       "Product_0002  72500.0   59000.0  137000.0"
      ]
     },
     "execution_count": 70,
     "metadata": {},
     "output_type": "execute_result"
    }
   ],
   "source": [
    "months = ['October', 'November', 'December']\n",
    "data_pivot = data_pivot[months]\n",
    "data_pivot.head(2)"
   ]
  },
  {
   "cell_type": "markdown",
   "metadata": {
    "id": "3AgpPeWNSVCd"
   },
   "source": [
    "#### Calculating Demand Standard Deviation"
   ]
  },
  {
   "cell_type": "code",
   "execution_count": 71,
   "metadata": {
    "id": "KQ9d9-uTRaUc"
   },
   "outputs": [],
   "source": [
    "data_calc = data_pivot.copy()"
   ]
  },
  {
   "cell_type": "code",
   "execution_count": 72,
   "metadata": {
    "colab": {
     "base_uri": "https://localhost:8080/",
     "height": 450
    },
    "id": "DBDK7oevRwaY",
    "outputId": "f708ef59-5aeb-498b-fa14-dc62654a0abb"
   },
   "outputs": [
    {
     "data": {
      "text/html": [
       "<div>\n",
       "<style scoped>\n",
       "    .dataframe tbody tr th:only-of-type {\n",
       "        vertical-align: middle;\n",
       "    }\n",
       "\n",
       "    .dataframe tbody tr th {\n",
       "        vertical-align: top;\n",
       "    }\n",
       "\n",
       "    .dataframe thead th {\n",
       "        text-align: right;\n",
       "    }\n",
       "</style>\n",
       "<table border=\"1\" class=\"dataframe\">\n",
       "  <thead>\n",
       "    <tr style=\"text-align: right;\">\n",
       "      <th>month</th>\n",
       "      <th>October</th>\n",
       "      <th>November</th>\n",
       "      <th>December</th>\n",
       "      <th>std</th>\n",
       "    </tr>\n",
       "    <tr>\n",
       "      <th>Product_Code</th>\n",
       "      <th></th>\n",
       "      <th></th>\n",
       "      <th></th>\n",
       "      <th></th>\n",
       "    </tr>\n",
       "  </thead>\n",
       "  <tbody>\n",
       "    <tr>\n",
       "      <th>Product_0001</th>\n",
       "      <td>2100.0</td>\n",
       "      <td>600.0</td>\n",
       "      <td>1700.0</td>\n",
       "      <td>776.75</td>\n",
       "    </tr>\n",
       "    <tr>\n",
       "      <th>Product_0002</th>\n",
       "      <td>72500.0</td>\n",
       "      <td>59000.0</td>\n",
       "      <td>137000.0</td>\n",
       "      <td>41686.33</td>\n",
       "    </tr>\n",
       "  </tbody>\n",
       "</table>\n",
       "</div>"
      ],
      "text/plain": [
       "month         October  November  December       std\n",
       "Product_Code                                       \n",
       "Product_0001   2100.0     600.0    1700.0    776.75\n",
       "Product_0002  72500.0   59000.0  137000.0  41686.33"
      ]
     },
     "execution_count": 72,
     "metadata": {},
     "output_type": "execute_result"
    }
   ],
   "source": [
    "data_calc['std'] = round((data_calc[months].std(axis=1)), 2)\n",
    "data_calc.head(2)"
   ]
  },
  {
   "cell_type": "markdown",
   "metadata": {
    "id": "CXbI5jxaTTSh"
   },
   "source": [
    "#### Calculating Total Demand within Period Given"
   ]
  },
  {
   "cell_type": "code",
   "execution_count": 73,
   "metadata": {
    "colab": {
     "base_uri": "https://localhost:8080/",
     "height": 450
    },
    "id": "EdrluTshVIjs",
    "outputId": "fb73de94-bfb4-4b3a-9996-c95521af3ccd"
   },
   "outputs": [
    {
     "data": {
      "text/html": [
       "<div>\n",
       "<style scoped>\n",
       "    .dataframe tbody tr th:only-of-type {\n",
       "        vertical-align: middle;\n",
       "    }\n",
       "\n",
       "    .dataframe tbody tr th {\n",
       "        vertical-align: top;\n",
       "    }\n",
       "\n",
       "    .dataframe thead th {\n",
       "        text-align: right;\n",
       "    }\n",
       "</style>\n",
       "<table border=\"1\" class=\"dataframe\">\n",
       "  <thead>\n",
       "    <tr style=\"text-align: right;\">\n",
       "      <th>month</th>\n",
       "      <th>October</th>\n",
       "      <th>November</th>\n",
       "      <th>December</th>\n",
       "      <th>std</th>\n",
       "      <th>total</th>\n",
       "    </tr>\n",
       "    <tr>\n",
       "      <th>Product_Code</th>\n",
       "      <th></th>\n",
       "      <th></th>\n",
       "      <th></th>\n",
       "      <th></th>\n",
       "      <th></th>\n",
       "    </tr>\n",
       "  </thead>\n",
       "  <tbody>\n",
       "    <tr>\n",
       "      <th>Product_0001</th>\n",
       "      <td>2100.0</td>\n",
       "      <td>600.0</td>\n",
       "      <td>1700.0</td>\n",
       "      <td>776.75</td>\n",
       "      <td>4400.0</td>\n",
       "    </tr>\n",
       "    <tr>\n",
       "      <th>Product_0002</th>\n",
       "      <td>72500.0</td>\n",
       "      <td>59000.0</td>\n",
       "      <td>137000.0</td>\n",
       "      <td>41686.33</td>\n",
       "      <td>268500.0</td>\n",
       "    </tr>\n",
       "  </tbody>\n",
       "</table>\n",
       "</div>"
      ],
      "text/plain": [
       "month         October  November  December       std     total\n",
       "Product_Code                                                 \n",
       "Product_0001   2100.0     600.0    1700.0    776.75    4400.0\n",
       "Product_0002  72500.0   59000.0  137000.0  41686.33  268500.0"
      ]
     },
     "execution_count": 73,
     "metadata": {},
     "output_type": "execute_result"
    }
   ],
   "source": [
    "data_calc['total'] = round((data_calc[months].sum(axis=1)), 2)\n",
    "data_calc.head(2)"
   ]
  },
  {
   "cell_type": "markdown",
   "metadata": {
    "id": "GBH5A7r0ZY36"
   },
   "source": [
    "#### Calculating Average Demand within Period Given"
   ]
  },
  {
   "cell_type": "code",
   "execution_count": 74,
   "metadata": {
    "colab": {
     "base_uri": "https://localhost:8080/",
     "height": 450
    },
    "id": "OsPHatAhVYDk",
    "outputId": "699caa65-dce8-45f3-9a3a-eafc30c66038"
   },
   "outputs": [
    {
     "data": {
      "text/html": [
       "<div>\n",
       "<style scoped>\n",
       "    .dataframe tbody tr th:only-of-type {\n",
       "        vertical-align: middle;\n",
       "    }\n",
       "\n",
       "    .dataframe tbody tr th {\n",
       "        vertical-align: top;\n",
       "    }\n",
       "\n",
       "    .dataframe thead th {\n",
       "        text-align: right;\n",
       "    }\n",
       "</style>\n",
       "<table border=\"1\" class=\"dataframe\">\n",
       "  <thead>\n",
       "    <tr style=\"text-align: right;\">\n",
       "      <th>month</th>\n",
       "      <th>October</th>\n",
       "      <th>November</th>\n",
       "      <th>December</th>\n",
       "      <th>std</th>\n",
       "      <th>total</th>\n",
       "      <th>avg</th>\n",
       "    </tr>\n",
       "    <tr>\n",
       "      <th>Product_Code</th>\n",
       "      <th></th>\n",
       "      <th></th>\n",
       "      <th></th>\n",
       "      <th></th>\n",
       "      <th></th>\n",
       "      <th></th>\n",
       "    </tr>\n",
       "  </thead>\n",
       "  <tbody>\n",
       "    <tr>\n",
       "      <th>Product_0001</th>\n",
       "      <td>2100.0</td>\n",
       "      <td>600.0</td>\n",
       "      <td>1700.0</td>\n",
       "      <td>776.75</td>\n",
       "      <td>4400.0</td>\n",
       "      <td>1466.67</td>\n",
       "    </tr>\n",
       "    <tr>\n",
       "      <th>Product_0002</th>\n",
       "      <td>72500.0</td>\n",
       "      <td>59000.0</td>\n",
       "      <td>137000.0</td>\n",
       "      <td>41686.33</td>\n",
       "      <td>268500.0</td>\n",
       "      <td>89500.00</td>\n",
       "    </tr>\n",
       "  </tbody>\n",
       "</table>\n",
       "</div>"
      ],
      "text/plain": [
       "month         October  November  December       std     total       avg\n",
       "Product_Code                                                           \n",
       "Product_0001   2100.0     600.0    1700.0    776.75    4400.0   1466.67\n",
       "Product_0002  72500.0   59000.0  137000.0  41686.33  268500.0  89500.00"
      ]
     },
     "execution_count": 74,
     "metadata": {},
     "output_type": "execute_result"
    }
   ],
   "source": [
    "data_calc['avg'] = round((data_calc[months].mean(axis = 1)), 2)\n",
    "data_calc.head(2)"
   ]
  },
  {
   "cell_type": "markdown",
   "metadata": {
    "id": "2oIBUNHlaqIn"
   },
   "source": [
    "#### Calculating Covariance Demand"
   ]
  },
  {
   "cell_type": "code",
   "execution_count": 75,
   "metadata": {
    "colab": {
     "base_uri": "https://localhost:8080/",
     "height": 450
    },
    "id": "AqcJJuBPZpri",
    "outputId": "ab6e83f4-4b63-4512-f0d4-f39e08bdae8d"
   },
   "outputs": [
    {
     "data": {
      "text/html": [
       "<div>\n",
       "<style scoped>\n",
       "    .dataframe tbody tr th:only-of-type {\n",
       "        vertical-align: middle;\n",
       "    }\n",
       "\n",
       "    .dataframe tbody tr th {\n",
       "        vertical-align: top;\n",
       "    }\n",
       "\n",
       "    .dataframe thead th {\n",
       "        text-align: right;\n",
       "    }\n",
       "</style>\n",
       "<table border=\"1\" class=\"dataframe\">\n",
       "  <thead>\n",
       "    <tr style=\"text-align: right;\">\n",
       "      <th>month</th>\n",
       "      <th>October</th>\n",
       "      <th>November</th>\n",
       "      <th>December</th>\n",
       "      <th>std</th>\n",
       "      <th>total</th>\n",
       "      <th>avg</th>\n",
       "      <th>cov</th>\n",
       "    </tr>\n",
       "    <tr>\n",
       "      <th>Product_Code</th>\n",
       "      <th></th>\n",
       "      <th></th>\n",
       "      <th></th>\n",
       "      <th></th>\n",
       "      <th></th>\n",
       "      <th></th>\n",
       "      <th></th>\n",
       "    </tr>\n",
       "  </thead>\n",
       "  <tbody>\n",
       "    <tr>\n",
       "      <th>Product_1063</th>\n",
       "      <td>6.0</td>\n",
       "      <td>6.0</td>\n",
       "      <td>6.0</td>\n",
       "      <td>0.0</td>\n",
       "      <td>18.0</td>\n",
       "      <td>6.0</td>\n",
       "      <td>0.0</td>\n",
       "    </tr>\n",
       "    <tr>\n",
       "      <th>Product_2044</th>\n",
       "      <td>40000.0</td>\n",
       "      <td>40000.0</td>\n",
       "      <td>40000.0</td>\n",
       "      <td>0.0</td>\n",
       "      <td>120000.0</td>\n",
       "      <td>40000.0</td>\n",
       "      <td>0.0</td>\n",
       "    </tr>\n",
       "  </tbody>\n",
       "</table>\n",
       "</div>"
      ],
      "text/plain": [
       "month         October  November  December  std     total      avg  cov\n",
       "Product_Code                                                          \n",
       "Product_1063      6.0       6.0       6.0  0.0      18.0      6.0  0.0\n",
       "Product_2044  40000.0   40000.0   40000.0  0.0  120000.0  40000.0  0.0"
      ]
     },
     "execution_count": 75,
     "metadata": {},
     "output_type": "execute_result"
    }
   ],
   "source": [
    "data_calc['cov'] = round((data_calc['std'] / data_calc['avg']), 2)\n",
    "data_calc.sort_values(by='cov', ascending=True, inplace = True)\n",
    "data_calc.head(2)"
   ]
  },
  {
   "cell_type": "markdown",
   "metadata": {
    "id": "SmNNkggocfh0"
   },
   "source": [
    "#### Getting dataset info and statistics (min, mean, max)"
   ]
  },
  {
   "cell_type": "code",
   "execution_count": 76,
   "metadata": {
    "colab": {
     "base_uri": "https://localhost:8080/"
    },
    "id": "k4D7zpz_bbH6",
    "outputId": "b8b81776-1816-4fc5-adbb-9a58d438bd66"
   },
   "outputs": [
    {
     "name": "stdout",
     "output_type": "stream",
     "text": [
      "<class 'pandas.core.frame.DataFrame'>\n",
      "Index: 2077 entries, Product_1063 to Product_1647\n",
      "Data columns (total 7 columns):\n",
      " #   Column    Non-Null Count  Dtype  \n",
      "---  ------    --------------  -----  \n",
      " 0   October   2077 non-null   float64\n",
      " 1   November  2077 non-null   float64\n",
      " 2   December  2077 non-null   float64\n",
      " 3   std       2077 non-null   float64\n",
      " 4   total     2077 non-null   float64\n",
      " 5   avg       2077 non-null   float64\n",
      " 6   cov       2077 non-null   float64\n",
      "dtypes: float64(7)\n",
      "memory usage: 129.8+ KB\n"
     ]
    }
   ],
   "source": [
    "data_calc.info()"
   ]
  },
  {
   "cell_type": "code",
   "execution_count": 77,
   "metadata": {
    "colab": {
     "base_uri": "https://localhost:8080/"
    },
    "id": "bMPp8mPack97",
    "outputId": "bfd8b2cd-2195-4716-f917-fb02fc903af7"
   },
   "outputs": [
    {
     "name": "stdout",
     "output_type": "stream",
     "text": [
      "Minimum Coefficient of Demand Variation Value =  0.0\n",
      "Average Coefficient of Demand Variation Value =  0.73\n",
      "Maximum Coefficient of Demand Variation Value =  1.76\n"
     ]
    }
   ],
   "source": [
    "min = data_calc['cov'].min()\n",
    "avg = \"{:.2f}\".format(data_calc['cov'].mean())\n",
    "max = data_calc['cov'].max()\n",
    "\n",
    "print(\"Minimum Coefficient of Demand Variation Value = \", min)\n",
    "print(\"Average Coefficient of Demand Variation Value = \", avg)\n",
    "print(\"Maximum Coefficient of Demand Variation Value = \", max)"
   ]
  },
  {
   "cell_type": "code",
   "execution_count": 78,
   "metadata": {
    "colab": {
     "base_uri": "https://localhost:8080/",
     "height": 305
    },
    "id": "UfFTe6rIdJ0f",
    "outputId": "89051e05-2622-43b2-c0a8-d692e093ff69"
   },
   "outputs": [
    {
     "data": {
      "image/png": "[encoded data removed]",
      "text/plain": [
       "<Figure size 1080x432 with 1 Axes>"
      ]
     },
     "metadata": {},
     "output_type": "display_data"
    }
   ],
   "source": [
    "f, ax = plt.subplots(figsize = (15, 6))\n",
    "ax = sns.histplot(data_calc['cov'], kde=True)\n",
    "plt.title('Coefficient of Demand Variation Distribution', fontsize = 20, pad = 20)\n",
    "plt.xlabel('Covariance Demand', fontsize = 15)\n",
    "plt.ylabel('Counts', fontsize = 15)\n",
    "plt.show()"
   ]
  },
  {
   "cell_type": "markdown",
   "metadata": {
    "id": "HbEs-Jlxemfr"
   },
   "source": [
    "#### Classifying XYZ Classes"
   ]
  },
  {
   "cell_type": "code",
   "execution_count": 79,
   "metadata": {
    "id": "ka59fN6Ydl2e"
   },
   "outputs": [],
   "source": [
    "def xyz(cov):\n",
    "  if cov <= 0.5:\n",
    "    return 'X'\n",
    "  elif cov > 0.5 and cov <= 1.0:\n",
    "    return 'Y'\n",
    "  else:\n",
    "    return 'Z'"
   ]
  },
  {
   "cell_type": "code",
   "execution_count": 80,
   "metadata": {
    "id": "GatsFH7rfyzB"
   },
   "outputs": [],
   "source": [
    "data_xyz = data_calc.copy()"
   ]
  },
  {
   "cell_type": "code",
   "execution_count": 81,
   "metadata": {
    "colab": {
     "base_uri": "https://localhost:8080/"
    },
    "id": "5HWPR_nve_Cl",
    "outputId": "f9621222-9a1c-4f49-88e4-f94c38a5aa2d"
   },
   "outputs": [
    {
     "data": {
      "text/plain": [
       "X    799\n",
       "Y    790\n",
       "Z    488\n",
       "Name: xyz_class, dtype: int64"
      ]
     },
     "execution_count": 81,
     "metadata": {},
     "output_type": "execute_result"
    }
   ],
   "source": [
    "data_xyz['xyz_class'] = data_xyz['cov'].apply(xyz)\n",
    "data_xyz['xyz_class'].value_counts()"
   ]
  },
  {
   "cell_type": "code",
   "execution_count": 82,
   "metadata": {
    "colab": {
     "base_uri": "https://localhost:8080/",
     "height": 470
    },
    "id": "3EjkzulhfSr9",
    "outputId": "10652868-92b2-445d-b73f-a9f8c794ec11"
   },
   "outputs": [
    {
     "data": {
      "text/html": [
       "<div>\n",
       "<style scoped>\n",
       "    .dataframe tbody tr th:only-of-type {\n",
       "        vertical-align: middle;\n",
       "    }\n",
       "\n",
       "    .dataframe tbody tr th {\n",
       "        vertical-align: top;\n",
       "    }\n",
       "\n",
       "    .dataframe thead th {\n",
       "        text-align: right;\n",
       "    }\n",
       "</style>\n",
       "<table border=\"1\" class=\"dataframe\">\n",
       "  <thead>\n",
       "    <tr style=\"text-align: right;\">\n",
       "      <th>month</th>\n",
       "      <th>October</th>\n",
       "      <th>November</th>\n",
       "      <th>December</th>\n",
       "      <th>std</th>\n",
       "      <th>total</th>\n",
       "      <th>avg</th>\n",
       "      <th>cov</th>\n",
       "      <th>xyz_class</th>\n",
       "    </tr>\n",
       "    <tr>\n",
       "      <th>Product_Code</th>\n",
       "      <th></th>\n",
       "      <th></th>\n",
       "      <th></th>\n",
       "      <th></th>\n",
       "      <th></th>\n",
       "      <th></th>\n",
       "      <th></th>\n",
       "      <th></th>\n",
       "    </tr>\n",
       "  </thead>\n",
       "  <tbody>\n",
       "    <tr>\n",
       "      <th>Product_1063</th>\n",
       "      <td>6.0</td>\n",
       "      <td>6.0</td>\n",
       "      <td>6.0</td>\n",
       "      <td>0.0</td>\n",
       "      <td>18.0</td>\n",
       "      <td>6.0</td>\n",
       "      <td>0.0</td>\n",
       "      <td>X</td>\n",
       "    </tr>\n",
       "    <tr>\n",
       "      <th>Product_2044</th>\n",
       "      <td>40000.0</td>\n",
       "      <td>40000.0</td>\n",
       "      <td>40000.0</td>\n",
       "      <td>0.0</td>\n",
       "      <td>120000.0</td>\n",
       "      <td>40000.0</td>\n",
       "      <td>0.0</td>\n",
       "      <td>X</td>\n",
       "    </tr>\n",
       "  </tbody>\n",
       "</table>\n",
       "</div>"
      ],
      "text/plain": [
       "month         October  November  December  std     total      avg  cov  \\\n",
       "Product_Code                                                             \n",
       "Product_1063      6.0       6.0       6.0  0.0      18.0      6.0  0.0   \n",
       "Product_2044  40000.0   40000.0   40000.0  0.0  120000.0  40000.0  0.0   \n",
       "\n",
       "month        xyz_class  \n",
       "Product_Code            \n",
       "Product_1063         X  \n",
       "Product_2044         X  "
      ]
     },
     "execution_count": 82,
     "metadata": {},
     "output_type": "execute_result"
    }
   ],
   "source": [
    "data_xyz.head(2)"
   ]
  },
  {
   "cell_type": "code",
   "execution_count": 83,
   "metadata": {
    "colab": {
     "base_uri": "https://localhost:8080/",
     "height": 173
    },
    "id": "ZlkwDJBHjy8K",
    "outputId": "79bfda3d-e8ba-4a60-9bde-1630287aa26a"
   },
   "outputs": [
    {
     "data": {
      "text/html": [
       "<div>\n",
       "<style scoped>\n",
       "    .dataframe tbody tr th:only-of-type {\n",
       "        vertical-align: middle;\n",
       "    }\n",
       "\n",
       "    .dataframe tbody tr th {\n",
       "        vertical-align: top;\n",
       "    }\n",
       "\n",
       "    .dataframe thead th {\n",
       "        text-align: right;\n",
       "    }\n",
       "</style>\n",
       "<table border=\"1\" class=\"dataframe\">\n",
       "  <thead>\n",
       "    <tr style=\"text-align: right;\">\n",
       "      <th></th>\n",
       "      <th>total_demand</th>\n",
       "      <th>std_demand</th>\n",
       "      <th>avg_demand</th>\n",
       "      <th>avg_cov</th>\n",
       "    </tr>\n",
       "    <tr>\n",
       "      <th>xyz_class</th>\n",
       "      <th></th>\n",
       "      <th></th>\n",
       "      <th></th>\n",
       "      <th></th>\n",
       "    </tr>\n",
       "  </thead>\n",
       "  <tbody>\n",
       "    <tr>\n",
       "      <th>X</th>\n",
       "      <td>204125800.0</td>\n",
       "      <td>21098.315620</td>\n",
       "      <td>85158.865307</td>\n",
       "      <td>0.299862</td>\n",
       "    </tr>\n",
       "    <tr>\n",
       "      <th>Y</th>\n",
       "      <td>25196694.0</td>\n",
       "      <td>7777.389810</td>\n",
       "      <td>10631.516532</td>\n",
       "      <td>0.757835</td>\n",
       "    </tr>\n",
       "    <tr>\n",
       "      <th>Z</th>\n",
       "      <td>4535934.0</td>\n",
       "      <td>3883.457848</td>\n",
       "      <td>3098.315717</td>\n",
       "      <td>1.398668</td>\n",
       "    </tr>\n",
       "  </tbody>\n",
       "</table>\n",
       "</div>"
      ],
      "text/plain": [
       "           total_demand    std_demand    avg_demand   avg_cov\n",
       "xyz_class                                                    \n",
       "X           204125800.0  21098.315620  85158.865307  0.299862\n",
       "Y            25196694.0   7777.389810  10631.516532  0.757835\n",
       "Z             4535934.0   3883.457848   3098.315717  1.398668"
      ]
     },
     "execution_count": 83,
     "metadata": {},
     "output_type": "execute_result"
    }
   ],
   "source": [
    "xyz = data_xyz.copy()\n",
    "xyz.groupby('xyz_class').agg(\n",
    "    total_demand = ('total', 'sum'),\n",
    "    std_demand = ('std', 'mean'),\n",
    "    avg_demand = ('avg', 'mean'),\n",
    "    avg_cov = ('cov', 'mean')\n",
    ")"
   ]
  },
  {
   "cell_type": "code",
   "execution_count": 84,
   "metadata": {
    "colab": {
     "base_uri": "https://localhost:8080/",
     "height": 173
    },
    "id": "DwmP239LkdGz",
    "outputId": "578bf8ea-6753-4bb5-8426-f4b2e9f174f3"
   },
   "outputs": [
    {
     "data": {
      "text/html": [
       "<div>\n",
       "<style scoped>\n",
       "    .dataframe tbody tr th:only-of-type {\n",
       "        vertical-align: middle;\n",
       "    }\n",
       "\n",
       "    .dataframe tbody tr th {\n",
       "        vertical-align: top;\n",
       "    }\n",
       "\n",
       "    .dataframe thead th {\n",
       "        text-align: right;\n",
       "    }\n",
       "</style>\n",
       "<table border=\"1\" class=\"dataframe\">\n",
       "  <thead>\n",
       "    <tr style=\"text-align: right;\">\n",
       "      <th></th>\n",
       "      <th>oct</th>\n",
       "      <th>nov</th>\n",
       "      <th>dec</th>\n",
       "    </tr>\n",
       "    <tr>\n",
       "      <th>xyz_class</th>\n",
       "      <th></th>\n",
       "      <th></th>\n",
       "      <th></th>\n",
       "    </tr>\n",
       "  </thead>\n",
       "  <tbody>\n",
       "    <tr>\n",
       "      <th>X</th>\n",
       "      <td>66156452.0</td>\n",
       "      <td>72310120.0</td>\n",
       "      <td>65659228.0</td>\n",
       "    </tr>\n",
       "    <tr>\n",
       "      <th>Y</th>\n",
       "      <td>9915420.0</td>\n",
       "      <td>7673016.0</td>\n",
       "      <td>7608258.0</td>\n",
       "    </tr>\n",
       "    <tr>\n",
       "      <th>Z</th>\n",
       "      <td>1390343.0</td>\n",
       "      <td>2058457.0</td>\n",
       "      <td>1087134.0</td>\n",
       "    </tr>\n",
       "  </tbody>\n",
       "</table>\n",
       "</div>"
      ],
      "text/plain": [
       "                  oct         nov         dec\n",
       "xyz_class                                    \n",
       "X          66156452.0  72310120.0  65659228.0\n",
       "Y           9915420.0   7673016.0   7608258.0\n",
       "Z           1390343.0   2058457.0   1087134.0"
      ]
     },
     "execution_count": 84,
     "metadata": {},
     "output_type": "execute_result"
    }
   ],
   "source": [
    "xyz_monthly = data_xyz.groupby('xyz_class').agg(\n",
    "    oct = ('October', 'sum'),\n",
    "    nov = ('November', 'sum'),\n",
    "    dec = ('December', 'sum')\n",
    ")\n",
    "xyz_monthly"
   ]
  },
  {
   "cell_type": "code",
   "execution_count": 85,
   "metadata": {
    "colab": {
     "base_uri": "https://localhost:8080/",
     "height": 328
    },
    "id": "JY-UAGvunHWx",
    "outputId": "bed25e6f-6031-4da8-9e39-2484e6222685"
   },
   "outputs": [
    {
     "data": {
      "text/html": [
       "<div>\n",
       "<style scoped>\n",
       "    .dataframe tbody tr th:only-of-type {\n",
       "        vertical-align: middle;\n",
       "    }\n",
       "\n",
       "    .dataframe tbody tr th {\n",
       "        vertical-align: top;\n",
       "    }\n",
       "\n",
       "    .dataframe thead th {\n",
       "        text-align: right;\n",
       "    }\n",
       "</style>\n",
       "<table border=\"1\" class=\"dataframe\">\n",
       "  <thead>\n",
       "    <tr style=\"text-align: right;\">\n",
       "      <th></th>\n",
       "      <th>month</th>\n",
       "      <th>xyz_class</th>\n",
       "      <th>demand</th>\n",
       "    </tr>\n",
       "  </thead>\n",
       "  <tbody>\n",
       "    <tr>\n",
       "      <th>0</th>\n",
       "      <td>oct</td>\n",
       "      <td>X</td>\n",
       "      <td>66156452.0</td>\n",
       "    </tr>\n",
       "    <tr>\n",
       "      <th>1</th>\n",
       "      <td>oct</td>\n",
       "      <td>Y</td>\n",
       "      <td>9915420.0</td>\n",
       "    </tr>\n",
       "    <tr>\n",
       "      <th>2</th>\n",
       "      <td>oct</td>\n",
       "      <td>Z</td>\n",
       "      <td>1390343.0</td>\n",
       "    </tr>\n",
       "    <tr>\n",
       "      <th>3</th>\n",
       "      <td>nov</td>\n",
       "      <td>X</td>\n",
       "      <td>72310120.0</td>\n",
       "    </tr>\n",
       "    <tr>\n",
       "      <th>4</th>\n",
       "      <td>nov</td>\n",
       "      <td>Y</td>\n",
       "      <td>7673016.0</td>\n",
       "    </tr>\n",
       "    <tr>\n",
       "      <th>5</th>\n",
       "      <td>nov</td>\n",
       "      <td>Z</td>\n",
       "      <td>2058457.0</td>\n",
       "    </tr>\n",
       "    <tr>\n",
       "      <th>6</th>\n",
       "      <td>dec</td>\n",
       "      <td>X</td>\n",
       "      <td>65659228.0</td>\n",
       "    </tr>\n",
       "    <tr>\n",
       "      <th>7</th>\n",
       "      <td>dec</td>\n",
       "      <td>Y</td>\n",
       "      <td>7608258.0</td>\n",
       "    </tr>\n",
       "    <tr>\n",
       "      <th>8</th>\n",
       "      <td>dec</td>\n",
       "      <td>Z</td>\n",
       "      <td>1087134.0</td>\n",
       "    </tr>\n",
       "  </tbody>\n",
       "</table>\n",
       "</div>"
      ],
      "text/plain": [
       "  month xyz_class      demand\n",
       "0   oct         X  66156452.0\n",
       "1   oct         Y   9915420.0\n",
       "2   oct         Z   1390343.0\n",
       "3   nov         X  72310120.0\n",
       "4   nov         Y   7673016.0\n",
       "5   nov         Z   2058457.0\n",
       "6   dec         X  65659228.0\n",
       "7   dec         Y   7608258.0\n",
       "8   dec         Z   1087134.0"
      ]
     },
     "execution_count": 85,
     "metadata": {},
     "output_type": "execute_result"
    }
   ],
   "source": [
    "xyz_monthly_unstacked = xyz_monthly.unstack('xyz_class').to_frame()\n",
    "xyz_monthly_unstacked = xyz_monthly_unstacked.reset_index().rename(columns = {'level_0':'month', 0:'demand'})\n",
    "xyz_monthly_unstacked"
   ]
  },
  {
   "cell_type": "code",
   "execution_count": 86,
   "metadata": {
    "colab": {
     "base_uri": "https://localhost:8080/",
     "height": 309
    },
    "id": "vr049FKtmz3p",
    "outputId": "67c19b29-4b60-4b34-e051-1f10fb04cf5e"
   },
   "outputs": [
    {
     "data": {
      "image/png": "[encoded data removed]",
      "text/plain": [
       "<Figure size 1080x432 with 1 Axes>"
      ]
     },
     "metadata": {},
     "output_type": "display_data"
    }
   ],
   "source": [
    "f, ax = plt.subplots(figsize = (15, 6))\n",
    "ax = sns.barplot(x = 'month',\n",
    "                 y = 'demand',\n",
    "                 data = xyz_monthly_unstacked[xyz_monthly_unstacked['xyz_class'] == 'X'],\n",
    "                 palette = 'Blues_d')\n",
    "plt.title('X Clas Demand by Month', fontsize = 20, pad = 20)\n",
    "plt.xlabel('Month', fontsize = 15)\n",
    "plt.ylabel('Demand (in million)', fontsize = 15)\n",
    "labels, locations = plt.yticks()\n",
    "plt.yticks(labels, (labels/1000000).astype(int))\n",
    "# plt.savefig('X class demand.png')\n",
    "plt.show()"
   ]
  },
  {
   "cell_type": "code",
   "execution_count": 87,
   "metadata": {
    "colab": {
     "base_uri": "https://localhost:8080/",
     "height": 309
    },
    "id": "rdz7gWsJo3a4",
    "outputId": "b01c62b8-653b-4e81-a909-f8ddbdf8a6d3"
   },
   "outputs": [
    {
     "data": {
      "image/png": "[encoded data removed]",
      "text/plain": [
       "<Figure size 1080x432 with 1 Axes>"
      ]
     },
     "metadata": {},
     "output_type": "display_data"
    }
   ],
   "source": [
    "f, ax = plt.subplots(figsize = (15, 6))\n",
    "ax = sns.barplot(x = 'month',\n",
    "                 y = 'demand',\n",
    "                 data = xyz_monthly_unstacked[xyz_monthly_unstacked['xyz_class'] == 'Y'],\n",
    "                 palette = 'Blues_d')\n",
    "plt.title('Y Clas Demand by Month', fontsize = 20, pad = 20)\n",
    "plt.xlabel('Month', fontsize = 15)\n",
    "plt.ylabel('Demand (in million)', fontsize = 15)\n",
    "labels, locations = plt.yticks()\n",
    "plt.yticks(labels, (labels/1000000).astype(int))\n",
    "# plt.savefig('X class demand.png')\n",
    "plt.show()"
   ]
  },
  {
   "cell_type": "code",
   "execution_count": 88,
   "metadata": {
    "colab": {
     "base_uri": "https://localhost:8080/",
     "height": 312
    },
    "id": "DhLXtSMfpRxa",
    "outputId": "29fd098c-ccc8-4d9b-83d8-49e90ca09aa2"
   },
   "outputs": [
    {
     "data": {
      "image/png": "[encoded data removed]",
      "text/plain": [
       "<Figure size 1080x432 with 1 Axes>"
      ]
     },
     "metadata": {},
     "output_type": "display_data"
    }
   ],
   "source": [
    "f, ax = plt.subplots(figsize = (15, 6))\n",
    "ax = sns.barplot(x = 'month',\n",
    "                 y = 'demand',\n",
    "                 data = xyz_monthly_unstacked[xyz_monthly_unstacked['xyz_class'] == 'Z'],\n",
    "                 palette = 'Blues_d')\n",
    "plt.title('Z Clas Demand by Month', fontsize = 20, pad = 20)\n",
    "plt.xlabel('Month', fontsize = 15)\n",
    "plt.ylabel('Demand (in million)', fontsize = 15)\n",
    "labels, locations = plt.yticks()\n",
    "plt.yticks(labels, (labels/1000000).astype(int))\n",
    "# plt.savefig('X class demand.png')\n",
    "plt.show()"
   ]
  },
  {
   "cell_type": "code",
   "execution_count": 89,
   "metadata": {
    "colab": {
     "base_uri": "https://localhost:8080/",
     "height": 309
    },
    "id": "S8gB-iLlpbfk",
    "outputId": "695224eb-692c-4333-b2df-ce707b578ad6"
   },
   "outputs": [
    {
     "data": {
      "image/png": "[encoded data removed]",
      "text/plain": [
       "<Figure size 1080x432 with 1 Axes>"
      ]
     },
     "metadata": {},
     "output_type": "display_data"
    }
   ],
   "source": [
    "f, ax = plt.subplots(figsize = (15, 6))\n",
    "ax = sns.barplot(x = 'month',\n",
    "                 y = 'demand',\n",
    "                 hue = 'xyz_class',\n",
    "                 data = xyz_monthly_unstacked,\n",
    "                 palette = 'Blues_d')\n",
    "plt.title('XYZ Class Demand Monthly', fontsize = 20, pad = 20)\n",
    "plt.xlabel('Month', fontsize = 15)\n",
    "plt.ylabel('Demand (in million)', fontsize = 15)\n",
    "labels, locations = plt.yticks()\n",
    "plt.yticks(labels, (labels/1000000).astype(int))\n",
    "# plt.savefig('X class demand.png')\n",
    "plt.show()"
   ]
  },
  {
   "cell_type": "markdown",
   "metadata": {
    "id": "bCy7bIVGothK"
   },
   "source": [
    "### Performing ABCXYZ Classification"
   ]
  },
  {
   "cell_type": "code",
   "execution_count": 90,
   "metadata": {
    "colab": {
     "base_uri": "https://localhost:8080/",
     "height": 419
    },
    "id": "YTDAFmwFU0Qg",
    "outputId": "5e8138dc-6ec7-45f3-dae2-d2f7161c6f57"
   },
   "outputs": [
    {
     "data": {
      "text/html": [
       "<div>\n",
       "<style scoped>\n",
       "    .dataframe tbody tr th:only-of-type {\n",
       "        vertical-align: middle;\n",
       "    }\n",
       "\n",
       "    .dataframe tbody tr th {\n",
       "        vertical-align: top;\n",
       "    }\n",
       "\n",
       "    .dataframe thead th {\n",
       "        text-align: right;\n",
       "    }\n",
       "</style>\n",
       "<table border=\"1\" class=\"dataframe\">\n",
       "  <thead>\n",
       "    <tr style=\"text-align: right;\">\n",
       "      <th>month</th>\n",
       "      <th>Product_Code</th>\n",
       "      <th>xyz_class</th>\n",
       "    </tr>\n",
       "  </thead>\n",
       "  <tbody>\n",
       "    <tr>\n",
       "      <th>0</th>\n",
       "      <td>Product_1063</td>\n",
       "      <td>X</td>\n",
       "    </tr>\n",
       "    <tr>\n",
       "      <th>1</th>\n",
       "      <td>Product_2044</td>\n",
       "      <td>X</td>\n",
       "    </tr>\n",
       "  </tbody>\n",
       "</table>\n",
       "</div>"
      ],
      "text/plain": [
       "month  Product_Code xyz_class\n",
       "0      Product_1063         X\n",
       "1      Product_2044         X"
      ]
     },
     "execution_count": 90,
     "metadata": {},
     "output_type": "execute_result"
    }
   ],
   "source": [
    "xyz_classified = data_xyz.copy().reset_index()\n",
    "xyz_classified = xyz_classified.loc[:, ['Product_Code', 'xyz_class']]\n",
    "# xyz_classified.loc[classified['xyz_class'] == 'X']\n",
    "xyz_classified.head(2)"
   ]
  },
  {
   "cell_type": "code",
   "execution_count": 91,
   "metadata": {
    "colab": {
     "base_uri": "https://localhost:8080/",
     "height": 419
    },
    "id": "B_ILwwDioBvD",
    "outputId": "3e684364-3162-4181-d195-e54af0f566eb"
   },
   "outputs": [
    {
     "data": {
      "text/html": [
       "<div>\n",
       "<style scoped>\n",
       "    .dataframe tbody tr th:only-of-type {\n",
       "        vertical-align: middle;\n",
       "    }\n",
       "\n",
       "    .dataframe tbody tr th {\n",
       "        vertical-align: top;\n",
       "    }\n",
       "\n",
       "    .dataframe thead th {\n",
       "        text-align: right;\n",
       "    }\n",
       "</style>\n",
       "<table border=\"1\" class=\"dataframe\">\n",
       "  <thead>\n",
       "    <tr style=\"text-align: right;\">\n",
       "      <th></th>\n",
       "      <th>Product_Code</th>\n",
       "      <th>abc_class</th>\n",
       "    </tr>\n",
       "  </thead>\n",
       "  <tbody>\n",
       "    <tr>\n",
       "      <th>0</th>\n",
       "      <td>Product_1359</td>\n",
       "      <td>A</td>\n",
       "    </tr>\n",
       "    <tr>\n",
       "      <th>1</th>\n",
       "      <td>Product_1378</td>\n",
       "      <td>A</td>\n",
       "    </tr>\n",
       "  </tbody>\n",
       "</table>\n",
       "</div>"
      ],
      "text/plain": [
       "   Product_Code abc_class\n",
       "0  Product_1359         A\n",
       "1  Product_1378         A"
      ]
     },
     "execution_count": 91,
     "metadata": {},
     "output_type": "execute_result"
    }
   ],
   "source": [
    "abc_classified = classified.copy()\n",
    "abc_classified.drop(columns='order_frequency', inplace=True)\n",
    "abc_classified = abc_classified.rename({'class':'abc_class'}, axis = 1)\n",
    "abc_classified.head(2)"
   ]
  },
  {
   "cell_type": "code",
   "execution_count": 92,
   "metadata": {
    "colab": {
     "base_uri": "https://localhost:8080/",
     "height": 419
    },
    "id": "irfF_38ho5er",
    "outputId": "55403226-736c-420e-d335-07e56e81f7cd"
   },
   "outputs": [
    {
     "data": {
      "text/html": [
       "<div>\n",
       "<style scoped>\n",
       "    .dataframe tbody tr th:only-of-type {\n",
       "        vertical-align: middle;\n",
       "    }\n",
       "\n",
       "    .dataframe tbody tr th {\n",
       "        vertical-align: top;\n",
       "    }\n",
       "\n",
       "    .dataframe thead th {\n",
       "        text-align: right;\n",
       "    }\n",
       "</style>\n",
       "<table border=\"1\" class=\"dataframe\">\n",
       "  <thead>\n",
       "    <tr style=\"text-align: right;\">\n",
       "      <th></th>\n",
       "      <th>Product_Code</th>\n",
       "      <th>abc_class</th>\n",
       "      <th>xyz_class</th>\n",
       "    </tr>\n",
       "  </thead>\n",
       "  <tbody>\n",
       "    <tr>\n",
       "      <th>0</th>\n",
       "      <td>Product_1359</td>\n",
       "      <td>A</td>\n",
       "      <td>X</td>\n",
       "    </tr>\n",
       "    <tr>\n",
       "      <th>1</th>\n",
       "      <td>Product_1378</td>\n",
       "      <td>A</td>\n",
       "      <td>X</td>\n",
       "    </tr>\n",
       "  </tbody>\n",
       "</table>\n",
       "</div>"
      ],
      "text/plain": [
       "   Product_Code abc_class xyz_class\n",
       "0  Product_1359         A         X\n",
       "1  Product_1378         A         X"
      ]
     },
     "execution_count": 92,
     "metadata": {},
     "output_type": "execute_result"
    }
   ],
   "source": [
    "data_abcxyz = abc_classified.merge(xyz_classified, on = 'Product_Code', how = 'left')\n",
    "data_abcxyz.head(2)"
   ]
  },
  {
   "cell_type": "code",
   "execution_count": 93,
   "metadata": {
    "colab": {
     "base_uri": "https://localhost:8080/",
     "height": 419
    },
    "id": "UCS305LSpr8N",
    "outputId": "fbfc80ce-b230-4b28-ccc3-5afecd3b68c2"
   },
   "outputs": [
    {
     "data": {
      "text/html": [
       "<div>\n",
       "<style scoped>\n",
       "    .dataframe tbody tr th:only-of-type {\n",
       "        vertical-align: middle;\n",
       "    }\n",
       "\n",
       "    .dataframe tbody tr th {\n",
       "        vertical-align: top;\n",
       "    }\n",
       "\n",
       "    .dataframe thead th {\n",
       "        text-align: right;\n",
       "    }\n",
       "</style>\n",
       "<table border=\"1\" class=\"dataframe\">\n",
       "  <thead>\n",
       "    <tr style=\"text-align: right;\">\n",
       "      <th></th>\n",
       "      <th>Product_Code</th>\n",
       "      <th>abc_class</th>\n",
       "      <th>xyz_class</th>\n",
       "      <th>abc_xyz_class</th>\n",
       "    </tr>\n",
       "  </thead>\n",
       "  <tbody>\n",
       "    <tr>\n",
       "      <th>0</th>\n",
       "      <td>Product_1359</td>\n",
       "      <td>A</td>\n",
       "      <td>X</td>\n",
       "      <td>AX</td>\n",
       "    </tr>\n",
       "    <tr>\n",
       "      <th>1</th>\n",
       "      <td>Product_1378</td>\n",
       "      <td>A</td>\n",
       "      <td>X</td>\n",
       "      <td>AX</td>\n",
       "    </tr>\n",
       "  </tbody>\n",
       "</table>\n",
       "</div>"
      ],
      "text/plain": [
       "   Product_Code abc_class xyz_class abc_xyz_class\n",
       "0  Product_1359         A         X            AX\n",
       "1  Product_1378         A         X            AX"
      ]
     },
     "execution_count": 93,
     "metadata": {},
     "output_type": "execute_result"
    }
   ],
   "source": [
    "data_abcxyz['abc_xyz_class'] = data_abcxyz['abc_class'].astype(str) + data_abcxyz['xyz_class'].astype(str)\n",
    "data_abcxyz.head(2)"
   ]
  },
  {
   "cell_type": "code",
   "execution_count": 94,
   "metadata": {
    "colab": {
     "base_uri": "https://localhost:8080/",
     "height": 589
    },
    "id": "BPK_oLxqquJL",
    "outputId": "3499eadd-3469-465e-90b7-0695f56f2a4b"
   },
   "outputs": [
    {
     "data": {
      "text/html": [
       "<div>\n",
       "<style scoped>\n",
       "    .dataframe tbody tr th:only-of-type {\n",
       "        vertical-align: middle;\n",
       "    }\n",
       "\n",
       "    .dataframe tbody tr th {\n",
       "        vertical-align: top;\n",
       "    }\n",
       "\n",
       "    .dataframe thead th {\n",
       "        text-align: right;\n",
       "    }\n",
       "</style>\n",
       "<table border=\"1\" class=\"dataframe\">\n",
       "  <thead>\n",
       "    <tr style=\"text-align: right;\">\n",
       "      <th></th>\n",
       "      <th>Product_Code</th>\n",
       "      <th>Date</th>\n",
       "      <th>Order_Demand</th>\n",
       "      <th>abc_class</th>\n",
       "      <th>xyz_class</th>\n",
       "      <th>abc_xyz_class</th>\n",
       "    </tr>\n",
       "  </thead>\n",
       "  <tbody>\n",
       "    <tr>\n",
       "      <th>0</th>\n",
       "      <td>Product_2144</td>\n",
       "      <td>2016-10-02</td>\n",
       "      <td>10</td>\n",
       "      <td>B</td>\n",
       "      <td>Y</td>\n",
       "      <td>BY</td>\n",
       "    </tr>\n",
       "    <tr>\n",
       "      <th>1</th>\n",
       "      <td>Product_2136</td>\n",
       "      <td>2016-10-02</td>\n",
       "      <td>20</td>\n",
       "      <td>C</td>\n",
       "      <td>Y</td>\n",
       "      <td>CY</td>\n",
       "    </tr>\n",
       "  </tbody>\n",
       "</table>\n",
       "</div>"
      ],
      "text/plain": [
       "   Product_Code       Date  Order_Demand abc_class xyz_class abc_xyz_class\n",
       "0  Product_2144 2016-10-02            10         B         Y            BY\n",
       "1  Product_2136 2016-10-02            20         C         Y            CY"
      ]
     },
     "execution_count": 94,
     "metadata": {},
     "output_type": "execute_result"
    }
   ],
   "source": [
    "merge_abcxyz = df_3_months.merge(data_abcxyz, on = 'Product_Code', how = 'left')\n",
    "merge_abcxyz.head(2)"
   ]
  },
  {
   "cell_type": "code",
   "execution_count": 95,
   "metadata": {
    "colab": {
     "base_uri": "https://localhost:8080/",
     "height": 297
    },
    "id": "xroC_ehpqWmg",
    "outputId": "f3a7627e-5cde-4702-9fa6-0d22374ff76f"
   },
   "outputs": [
    {
     "data": {
      "text/html": [
       "<div>\n",
       "<style scoped>\n",
       "    .dataframe tbody tr th:only-of-type {\n",
       "        vertical-align: middle;\n",
       "    }\n",
       "\n",
       "    .dataframe tbody tr th {\n",
       "        vertical-align: top;\n",
       "    }\n",
       "\n",
       "    .dataframe thead th {\n",
       "        text-align: right;\n",
       "    }\n",
       "</style>\n",
       "<table border=\"1\" class=\"dataframe\">\n",
       "  <thead>\n",
       "    <tr style=\"text-align: right;\">\n",
       "      <th></th>\n",
       "      <th>abc_xyz_class</th>\n",
       "      <th>total_demand</th>\n",
       "      <th>avg_demand</th>\n",
       "    </tr>\n",
       "  </thead>\n",
       "  <tbody>\n",
       "    <tr>\n",
       "      <th>0</th>\n",
       "      <td>AX</td>\n",
       "      <td>133532011</td>\n",
       "      <td>9749.71</td>\n",
       "    </tr>\n",
       "    <tr>\n",
       "      <th>1</th>\n",
       "      <td>AY</td>\n",
       "      <td>3001340</td>\n",
       "      <td>2466.18</td>\n",
       "    </tr>\n",
       "    <tr>\n",
       "      <th>2</th>\n",
       "      <td>BX</td>\n",
       "      <td>47562347</td>\n",
       "      <td>4880.69</td>\n",
       "    </tr>\n",
       "    <tr>\n",
       "      <th>3</th>\n",
       "      <td>BY</td>\n",
       "      <td>6377501</td>\n",
       "      <td>1773.50</td>\n",
       "    </tr>\n",
       "    <tr>\n",
       "      <th>4</th>\n",
       "      <td>BZ</td>\n",
       "      <td>1228152</td>\n",
       "      <td>4149.16</td>\n",
       "    </tr>\n",
       "    <tr>\n",
       "      <th>5</th>\n",
       "      <td>CX</td>\n",
       "      <td>23031442</td>\n",
       "      <td>3704.59</td>\n",
       "    </tr>\n",
       "    <tr>\n",
       "      <th>6</th>\n",
       "      <td>CY</td>\n",
       "      <td>15817853</td>\n",
       "      <td>2484.35</td>\n",
       "    </tr>\n",
       "    <tr>\n",
       "      <th>7</th>\n",
       "      <td>CZ</td>\n",
       "      <td>3307782</td>\n",
       "      <td>1216.54</td>\n",
       "    </tr>\n",
       "  </tbody>\n",
       "</table>\n",
       "</div>"
      ],
      "text/plain": [
       "  abc_xyz_class  total_demand  avg_demand\n",
       "0            AX     133532011     9749.71\n",
       "1            AY       3001340     2466.18\n",
       "2            BX      47562347     4880.69\n",
       "3            BY       6377501     1773.50\n",
       "4            BZ       1228152     4149.16\n",
       "5            CX      23031442     3704.59\n",
       "6            CY      15817853     2484.35\n",
       "7            CZ       3307782     1216.54"
      ]
     },
     "execution_count": 95,
     "metadata": {},
     "output_type": "execute_result"
    }
   ],
   "source": [
    "data_summary = merge_abcxyz.groupby('abc_xyz_class').agg(\n",
    "    total_demand = ('Order_Demand', sum),\n",
    "    avg_demand = ('Order_Demand', 'mean')\n",
    ").reset_index()\n",
    "data_summary['avg_demand'] = round((data_summary['avg_demand']), 2)\n",
    "# data_summary.sort_values(by='total_demand', ascending = False, inplace = True)\n",
    "data_summary"
   ]
  },
  {
   "cell_type": "code",
   "execution_count": 96,
   "metadata": {
    "colab": {
     "base_uri": "https://localhost:8080/",
     "height": 305
    },
    "id": "kDs-9ssdurw9",
    "outputId": "9412f2a6-9441-4da9-f161-a84383251b78",
    "scrolled": true
   },
   "outputs": [
    {
     "data": {
      "image/png": "[encoded data removed]",
      "text/plain": [
       "<Figure size 1080x432 with 1 Axes>"
      ]
     },
     "metadata": {},
     "output_type": "display_data"
    }
   ],
   "source": [
    "f, ax = plt.subplots(figsize = (15, 6))\n",
    "ax = sns.barplot(x = 'abc_xyz_class',\n",
    "                 y = 'total_demand',\n",
    "                 data = data_summary,\n",
    "                 palette = 'Blues_d')\n",
    "plt.title('Total Revenue by ABC-XYZ Class', fontsize = 20, pad = 20)\n",
    "labels, locations = plt.yticks()\n",
    "plt.yticks(labels, (labels/1000000).astype(int))\n",
    "plt.ylabel('Total Demand (in million)', fontsize = 15)\n",
    "plt.xlabel('ABCXYZ Class', fontsize = 15)\n",
    "# plt.savefig('ABCXYZ rev.png')\n",
    "plt.show()"
   ]
  },
  {
   "cell_type": "markdown",
   "metadata": {
    "id": "YUSruzV9vkfk"
   },
   "source": [
    "### Performing Class Recommendation Duration"
   ]
  },
  {
   "cell_type": "markdown",
   "metadata": {},
   "source": [
    "#### Load Data"
   ]
  },
  {
   "cell_type": "code",
   "execution_count": 97,
   "metadata": {},
   "outputs": [
    {
     "data": {
      "text/html": [
       "<div>\n",
       "<style scoped>\n",
       "    .dataframe tbody tr th:only-of-type {\n",
       "        vertical-align: middle;\n",
       "    }\n",
       "\n",
       "    .dataframe tbody tr th {\n",
       "        vertical-align: top;\n",
       "    }\n",
       "\n",
       "    .dataframe thead th {\n",
       "        text-align: right;\n",
       "    }\n",
       "</style>\n",
       "<table border=\"1\" class=\"dataframe\">\n",
       "  <thead>\n",
       "    <tr style=\"text-align: right;\">\n",
       "      <th></th>\n",
       "      <th>Product_Code</th>\n",
       "      <th>Date</th>\n",
       "      <th>Order_Demand</th>\n",
       "    </tr>\n",
       "  </thead>\n",
       "  <tbody>\n",
       "    <tr>\n",
       "      <th>970172</th>\n",
       "      <td>Product_2144</td>\n",
       "      <td>2016-10-02</td>\n",
       "      <td>10</td>\n",
       "    </tr>\n",
       "    <tr>\n",
       "      <th>970170</th>\n",
       "      <td>Product_2136</td>\n",
       "      <td>2016-10-02</td>\n",
       "      <td>20</td>\n",
       "    </tr>\n",
       "  </tbody>\n",
       "</table>\n",
       "</div>"
      ],
      "text/plain": [
       "        Product_Code       Date  Order_Demand\n",
       "970172  Product_2144 2016-10-02            10\n",
       "970170  Product_2136 2016-10-02            20"
      ]
     },
     "execution_count": 97,
     "metadata": {},
     "output_type": "execute_result"
    }
   ],
   "source": [
    "month_1 = df_fe.loc[(df_fe['Date'].dt.year == 2016) & (df_fe['Date'].dt.month == 10)]\n",
    "month_1.head(2)"
   ]
  },
  {
   "cell_type": "code",
   "execution_count": 98,
   "metadata": {},
   "outputs": [
    {
     "data": {
      "text/html": [
       "<div>\n",
       "<style scoped>\n",
       "    .dataframe tbody tr th:only-of-type {\n",
       "        vertical-align: middle;\n",
       "    }\n",
       "\n",
       "    .dataframe tbody tr th {\n",
       "        vertical-align: top;\n",
       "    }\n",
       "\n",
       "    .dataframe thead th {\n",
       "        text-align: right;\n",
       "    }\n",
       "</style>\n",
       "<table border=\"1\" class=\"dataframe\">\n",
       "  <thead>\n",
       "    <tr style=\"text-align: right;\">\n",
       "      <th></th>\n",
       "      <th>Product_Code</th>\n",
       "      <th>Date</th>\n",
       "      <th>Order_Demand</th>\n",
       "    </tr>\n",
       "  </thead>\n",
       "  <tbody>\n",
       "    <tr>\n",
       "      <th>970172</th>\n",
       "      <td>Product_2144</td>\n",
       "      <td>2016-10-02</td>\n",
       "      <td>10</td>\n",
       "    </tr>\n",
       "    <tr>\n",
       "      <th>970170</th>\n",
       "      <td>Product_2136</td>\n",
       "      <td>2016-10-02</td>\n",
       "      <td>20</td>\n",
       "    </tr>\n",
       "  </tbody>\n",
       "</table>\n",
       "</div>"
      ],
      "text/plain": [
       "        Product_Code       Date  Order_Demand\n",
       "970172  Product_2144 2016-10-02            10\n",
       "970170  Product_2136 2016-10-02            20"
      ]
     },
     "execution_count": 98,
     "metadata": {},
     "output_type": "execute_result"
    }
   ],
   "source": [
    "month_2 = df_fe.loc[(df_fe['Date'].dt.year == 2016) & ((df_fe['Date'].dt.month == 10) | (df_fe['Date'].dt.month == 11))]\n",
    "month_2.head(2)"
   ]
  },
  {
   "cell_type": "code",
   "execution_count": 99,
   "metadata": {},
   "outputs": [
    {
     "data": {
      "text/html": [
       "<div>\n",
       "<style scoped>\n",
       "    .dataframe tbody tr th:only-of-type {\n",
       "        vertical-align: middle;\n",
       "    }\n",
       "\n",
       "    .dataframe tbody tr th {\n",
       "        vertical-align: top;\n",
       "    }\n",
       "\n",
       "    .dataframe thead th {\n",
       "        text-align: right;\n",
       "    }\n",
       "</style>\n",
       "<table border=\"1\" class=\"dataframe\">\n",
       "  <thead>\n",
       "    <tr style=\"text-align: right;\">\n",
       "      <th></th>\n",
       "      <th>Product_Code</th>\n",
       "      <th>Date</th>\n",
       "      <th>Order_Demand</th>\n",
       "    </tr>\n",
       "  </thead>\n",
       "  <tbody>\n",
       "    <tr>\n",
       "      <th>970172</th>\n",
       "      <td>Product_2144</td>\n",
       "      <td>2016-10-02</td>\n",
       "      <td>10</td>\n",
       "    </tr>\n",
       "    <tr>\n",
       "      <th>970170</th>\n",
       "      <td>Product_2136</td>\n",
       "      <td>2016-10-02</td>\n",
       "      <td>20</td>\n",
       "    </tr>\n",
       "  </tbody>\n",
       "</table>\n",
       "</div>"
      ],
      "text/plain": [
       "        Product_Code       Date  Order_Demand\n",
       "970172  Product_2144 2016-10-02            10\n",
       "970170  Product_2136 2016-10-02            20"
      ]
     },
     "execution_count": 99,
     "metadata": {},
     "output_type": "execute_result"
    }
   ],
   "source": [
    "month_3 = df_fe.loc[(df_fe['Date'].dt.year == 2016) & ((df_fe['Date'].dt.month == 10) | (df_fe['Date'].dt.month == 11)| (df_fe['Date'].dt.month == 12))]\n",
    "month_3.head(2)"
   ]
  },
  {
   "cell_type": "markdown",
   "metadata": {},
   "source": [
    "#### Calculating Reorder Frequency for Each Month"
   ]
  },
  {
   "cell_type": "code",
   "execution_count": 100,
   "metadata": {},
   "outputs": [
    {
     "data": {
      "text/html": [
       "<div>\n",
       "<style scoped>\n",
       "    .dataframe tbody tr th:only-of-type {\n",
       "        vertical-align: middle;\n",
       "    }\n",
       "\n",
       "    .dataframe tbody tr th {\n",
       "        vertical-align: top;\n",
       "    }\n",
       "\n",
       "    .dataframe thead th {\n",
       "        text-align: right;\n",
       "    }\n",
       "</style>\n",
       "<table border=\"1\" class=\"dataframe\">\n",
       "  <thead>\n",
       "    <tr style=\"text-align: right;\">\n",
       "      <th></th>\n",
       "      <th>Product_Code</th>\n",
       "      <th>order_frequency</th>\n",
       "    </tr>\n",
       "  </thead>\n",
       "  <tbody>\n",
       "    <tr>\n",
       "      <th>0</th>\n",
       "      <td>Product_1359</td>\n",
       "      <td>153</td>\n",
       "    </tr>\n",
       "    <tr>\n",
       "      <th>1</th>\n",
       "      <td>Product_1295</td>\n",
       "      <td>113</td>\n",
       "    </tr>\n",
       "  </tbody>\n",
       "</table>\n",
       "</div>"
      ],
      "text/plain": [
       "   Product_Code  order_frequency\n",
       "0  Product_1359              153\n",
       "1  Product_1295              113"
      ]
     },
     "execution_count": 100,
     "metadata": {},
     "output_type": "execute_result"
    }
   ],
   "source": [
    "sum_1 = pd.DataFrame(month_1['Product_Code'].value_counts().reset_index())\n",
    "sum_1 = sum_1.rename({'index':'Product_Code', 'Product_Code':'order_frequency'}, axis = 1)\n",
    "sum_1.head(2)"
   ]
  },
  {
   "cell_type": "code",
   "execution_count": 101,
   "metadata": {},
   "outputs": [
    {
     "data": {
      "text/html": [
       "<div>\n",
       "<style scoped>\n",
       "    .dataframe tbody tr th:only-of-type {\n",
       "        vertical-align: middle;\n",
       "    }\n",
       "\n",
       "    .dataframe tbody tr th {\n",
       "        vertical-align: top;\n",
       "    }\n",
       "\n",
       "    .dataframe thead th {\n",
       "        text-align: right;\n",
       "    }\n",
       "</style>\n",
       "<table border=\"1\" class=\"dataframe\">\n",
       "  <thead>\n",
       "    <tr style=\"text-align: right;\">\n",
       "      <th></th>\n",
       "      <th>Product_Code</th>\n",
       "      <th>order_frequency</th>\n",
       "    </tr>\n",
       "  </thead>\n",
       "  <tbody>\n",
       "    <tr>\n",
       "      <th>0</th>\n",
       "      <td>Product_1359</td>\n",
       "      <td>307</td>\n",
       "    </tr>\n",
       "    <tr>\n",
       "      <th>1</th>\n",
       "      <td>Product_1295</td>\n",
       "      <td>234</td>\n",
       "    </tr>\n",
       "  </tbody>\n",
       "</table>\n",
       "</div>"
      ],
      "text/plain": [
       "   Product_Code  order_frequency\n",
       "0  Product_1359              307\n",
       "1  Product_1295              234"
      ]
     },
     "execution_count": 101,
     "metadata": {},
     "output_type": "execute_result"
    }
   ],
   "source": [
    "sum_2 = pd.DataFrame(month_2['Product_Code'].value_counts().reset_index())\n",
    "sum_2 = sum_2.rename({'index':'Product_Code', 'Product_Code':'order_frequency'}, axis = 1)\n",
    "sum_2.head(2)"
   ]
  },
  {
   "cell_type": "code",
   "execution_count": 102,
   "metadata": {},
   "outputs": [
    {
     "data": {
      "text/html": [
       "<div>\n",
       "<style scoped>\n",
       "    .dataframe tbody tr th:only-of-type {\n",
       "        vertical-align: middle;\n",
       "    }\n",
       "\n",
       "    .dataframe tbody tr th {\n",
       "        vertical-align: top;\n",
       "    }\n",
       "\n",
       "    .dataframe thead th {\n",
       "        text-align: right;\n",
       "    }\n",
       "</style>\n",
       "<table border=\"1\" class=\"dataframe\">\n",
       "  <thead>\n",
       "    <tr style=\"text-align: right;\">\n",
       "      <th></th>\n",
       "      <th>Product_Code</th>\n",
       "      <th>order_frequency</th>\n",
       "    </tr>\n",
       "  </thead>\n",
       "  <tbody>\n",
       "    <tr>\n",
       "      <th>0</th>\n",
       "      <td>Product_1359</td>\n",
       "      <td>455</td>\n",
       "    </tr>\n",
       "    <tr>\n",
       "      <th>1</th>\n",
       "      <td>Product_1378</td>\n",
       "      <td>346</td>\n",
       "    </tr>\n",
       "  </tbody>\n",
       "</table>\n",
       "</div>"
      ],
      "text/plain": [
       "   Product_Code  order_frequency\n",
       "0  Product_1359              455\n",
       "1  Product_1378              346"
      ]
     },
     "execution_count": 102,
     "metadata": {},
     "output_type": "execute_result"
    }
   ],
   "source": [
    "sum_3 = pd.DataFrame(month_3['Product_Code'].value_counts().reset_index())\n",
    "sum_3 = sum_3.rename({'index':'Product_Code', 'Product_Code':'order_frequency'}, axis = 1)\n",
    "sum_3.head(2)"
   ]
  },
  {
   "cell_type": "markdown",
   "metadata": {},
   "source": [
    "#### Calculating Rank Products For Each Month Cumulation"
   ]
  },
  {
   "cell_type": "code",
   "execution_count": 103,
   "metadata": {},
   "outputs": [],
   "source": [
    "sum_1['rank'] = sum_1.index + 1\n",
    "sum_2['rank'] = sum_2.index + 1\n",
    "sum_3['rank'] = sum_3.index + 1"
   ]
  },
  {
   "cell_type": "code",
   "execution_count": 104,
   "metadata": {},
   "outputs": [],
   "source": [
    "sum_1['total'] = len(sum_1)\n",
    "sum_2['total'] = len(sum_2)\n",
    "sum_3['total'] = len(sum_3)"
   ]
  },
  {
   "cell_type": "code",
   "execution_count": 105,
   "metadata": {},
   "outputs": [],
   "source": [
    "sum_1['rank_cumsum'] = round(((sum_1['rank'] / sum_1['total']) * 100), 2)\n",
    "sum_2['rank_cumsum'] = round(((sum_2['rank'] / sum_2['total']) * 100), 2)\n",
    "sum_3['rank_cumsum'] = round(((sum_3['rank'] / sum_3['total']) * 100), 2)"
   ]
  },
  {
   "cell_type": "markdown",
   "metadata": {},
   "source": [
    "#### Defining ABC Class for Each Month Cumulation"
   ]
  },
  {
   "cell_type": "code",
   "execution_count": 106,
   "metadata": {},
   "outputs": [],
   "source": [
    "sum_1['class_1'] = sum_1['rank_cumsum'].apply(abc)\n",
    "sum_2['class_2'] = sum_2['rank_cumsum'].apply(abc)\n",
    "sum_3['class_3'] = sum_3['rank_cumsum'].apply(abc)"
   ]
  },
  {
   "cell_type": "code",
   "execution_count": null,
   "metadata": {},
   "outputs": [],
   "source": []
  },
  {
   "cell_type": "markdown",
   "metadata": {},
   "source": [
    "#### Merging Data"
   ]
  },
  {
   "cell_type": "code",
   "execution_count": 107,
   "metadata": {},
   "outputs": [],
   "source": [
    "df_1 = sum_1.loc[:, ['Product_Code', 'class_1']]\n",
    "df_2 = sum_2.loc[:, ['Product_Code', 'class_2']]\n",
    "df_3 = sum_3.loc[:, ['Product_Code', 'class_3']]"
   ]
  },
  {
   "cell_type": "code",
   "execution_count": 108,
   "metadata": {},
   "outputs": [],
   "source": [
    "month_merge = pd.merge(df_3, df_2, how='left', on='Product_Code').fillna('No class')\n",
    "month_merge = pd.merge(month_merge, df_1, how='left', on='Product_Code').fillna('No class')"
   ]
  },
  {
   "cell_type": "code",
   "execution_count": 109,
   "metadata": {},
   "outputs": [
    {
     "data": {
      "text/html": [
       "<div>\n",
       "<style scoped>\n",
       "    .dataframe tbody tr th:only-of-type {\n",
       "        vertical-align: middle;\n",
       "    }\n",
       "\n",
       "    .dataframe tbody tr th {\n",
       "        vertical-align: top;\n",
       "    }\n",
       "\n",
       "    .dataframe thead th {\n",
       "        text-align: right;\n",
       "    }\n",
       "</style>\n",
       "<table border=\"1\" class=\"dataframe\">\n",
       "  <thead>\n",
       "    <tr style=\"text-align: right;\">\n",
       "      <th></th>\n",
       "      <th>Product_Code</th>\n",
       "      <th>class_1</th>\n",
       "      <th>class_2</th>\n",
       "      <th>class_3</th>\n",
       "    </tr>\n",
       "  </thead>\n",
       "  <tbody>\n",
       "    <tr>\n",
       "      <th>0</th>\n",
       "      <td>Product_1359</td>\n",
       "      <td>A</td>\n",
       "      <td>A</td>\n",
       "      <td>A</td>\n",
       "    </tr>\n",
       "    <tr>\n",
       "      <th>1</th>\n",
       "      <td>Product_1378</td>\n",
       "      <td>A</td>\n",
       "      <td>A</td>\n",
       "      <td>A</td>\n",
       "    </tr>\n",
       "    <tr>\n",
       "      <th>2</th>\n",
       "      <td>Product_1295</td>\n",
       "      <td>A</td>\n",
       "      <td>A</td>\n",
       "      <td>A</td>\n",
       "    </tr>\n",
       "    <tr>\n",
       "      <th>3</th>\n",
       "      <td>Product_1382</td>\n",
       "      <td>A</td>\n",
       "      <td>A</td>\n",
       "      <td>A</td>\n",
       "    </tr>\n",
       "    <tr>\n",
       "      <th>4</th>\n",
       "      <td>Product_0620</td>\n",
       "      <td>A</td>\n",
       "      <td>A</td>\n",
       "      <td>A</td>\n",
       "    </tr>\n",
       "    <tr>\n",
       "      <th>...</th>\n",
       "      <td>...</td>\n",
       "      <td>...</td>\n",
       "      <td>...</td>\n",
       "      <td>...</td>\n",
       "    </tr>\n",
       "    <tr>\n",
       "      <th>2072</th>\n",
       "      <td>Product_1205</td>\n",
       "      <td>No class</td>\n",
       "      <td>C</td>\n",
       "      <td>C</td>\n",
       "    </tr>\n",
       "    <tr>\n",
       "      <th>2073</th>\n",
       "      <td>Product_0382</td>\n",
       "      <td>No class</td>\n",
       "      <td>No class</td>\n",
       "      <td>C</td>\n",
       "    </tr>\n",
       "    <tr>\n",
       "      <th>2074</th>\n",
       "      <td>Product_1961</td>\n",
       "      <td>No class</td>\n",
       "      <td>No class</td>\n",
       "      <td>C</td>\n",
       "    </tr>\n",
       "    <tr>\n",
       "      <th>2075</th>\n",
       "      <td>Product_0691</td>\n",
       "      <td>C</td>\n",
       "      <td>C</td>\n",
       "      <td>C</td>\n",
       "    </tr>\n",
       "    <tr>\n",
       "      <th>2076</th>\n",
       "      <td>Product_0911</td>\n",
       "      <td>No class</td>\n",
       "      <td>No class</td>\n",
       "      <td>C</td>\n",
       "    </tr>\n",
       "  </tbody>\n",
       "</table>\n",
       "<p>2077 rows × 4 columns</p>\n",
       "</div>"
      ],
      "text/plain": [
       "      Product_Code   class_1   class_2 class_3\n",
       "0     Product_1359         A         A       A\n",
       "1     Product_1378         A         A       A\n",
       "2     Product_1295         A         A       A\n",
       "3     Product_1382         A         A       A\n",
       "4     Product_0620         A         A       A\n",
       "...            ...       ...       ...     ...\n",
       "2072  Product_1205  No class         C       C\n",
       "2073  Product_0382  No class  No class       C\n",
       "2074  Product_1961  No class  No class       C\n",
       "2075  Product_0691         C         C       C\n",
       "2076  Product_0911  No class  No class       C\n",
       "\n",
       "[2077 rows x 4 columns]"
      ]
     },
     "execution_count": 109,
     "metadata": {},
     "output_type": "execute_result"
    }
   ],
   "source": [
    "month_merge = month_merge[['Product_Code', 'class_1', 'class_2', 'class_3']]\n",
    "month_merge"
   ]
  },
  {
   "cell_type": "code",
   "execution_count": null,
   "metadata": {},
   "outputs": [],
   "source": []
  },
  {
   "cell_type": "code",
   "execution_count": 110,
   "metadata": {},
   "outputs": [],
   "source": [
    "# dum = pd.DataFrame({'product': ['001', '002', '003', '004', '005', '006'],\n",
    "#                     'class_1': ['A', 'A', 'A', '-', '-', '-'],\n",
    "#                    'class_2' : ['A', 'A', 'B', '-', 'B', 'C'],\n",
    "#                    'class_3' : ['A','B', 'C', 'C', 'C', 'C']})\n",
    "# dum"
   ]
  },
  {
   "cell_type": "code",
   "execution_count": 111,
   "metadata": {},
   "outputs": [],
   "source": [
    "# cond = [(dum['class_3'] == dum['class_1']) & (dum['class_3'] == dum['class_1']),\n",
    "#        dum['class_3'] == dum['class_2'],\n",
    "#         (dum['class_2'] == dum['class_1']) & (dum['class_2'] != '-'),\n",
    "#         ((dum['class_1'] != '-') & (dum['class_2'] != '-')) ]\n",
    "# choi = ['3 month', '2 month', '2 month', '1 month']\n",
    "# dum['rec'] = np.select(cond, choi, default='1 month')"
   ]
  },
  {
   "cell_type": "code",
   "execution_count": 112,
   "metadata": {},
   "outputs": [],
   "source": [
    "# dum"
   ]
  },
  {
   "cell_type": "code",
   "execution_count": 113,
   "metadata": {},
   "outputs": [],
   "source": [
    "conditions = [(month_merge['class_3'] == month_merge['class_2']) & (month_merge['class_3'] == month_merge['class_1']),\n",
    "              (((month_merge['class_3'] == month_merge['class_2']) & (month_merge['class_3'] != month_merge['class_1'])) | (month_merge['class_1'] == month_merge['class_2']) & (month_merge['class_1'] != month_merge['class_3']) & (month_merge['class_1'] != 'No class'))\n",
    "]\n",
    "choices = ['3 month', '2 month']"
   ]
  },
  {
   "cell_type": "code",
   "execution_count": 114,
   "metadata": {},
   "outputs": [],
   "source": [
    "month_copy = month_merge.copy()\n",
    "\n",
    "month_copy['recommendation'] = np.select(conditions, choices, default='1 month')"
   ]
  },
  {
   "cell_type": "code",
   "execution_count": 115,
   "metadata": {},
   "outputs": [
    {
     "data": {
      "text/html": [
       "<div>\n",
       "<style scoped>\n",
       "    .dataframe tbody tr th:only-of-type {\n",
       "        vertical-align: middle;\n",
       "    }\n",
       "\n",
       "    .dataframe tbody tr th {\n",
       "        vertical-align: top;\n",
       "    }\n",
       "\n",
       "    .dataframe thead th {\n",
       "        text-align: right;\n",
       "    }\n",
       "</style>\n",
       "<table border=\"1\" class=\"dataframe\">\n",
       "  <thead>\n",
       "    <tr style=\"text-align: right;\">\n",
       "      <th></th>\n",
       "      <th>Product_Code</th>\n",
       "      <th>class_1</th>\n",
       "      <th>class_2</th>\n",
       "      <th>class_3</th>\n",
       "      <th>recommendation</th>\n",
       "    </tr>\n",
       "  </thead>\n",
       "  <tbody>\n",
       "    <tr>\n",
       "      <th>2057</th>\n",
       "      <td>Product_1071</td>\n",
       "      <td>C</td>\n",
       "      <td>C</td>\n",
       "      <td>C</td>\n",
       "      <td>3 month</td>\n",
       "    </tr>\n",
       "    <tr>\n",
       "      <th>2058</th>\n",
       "      <td>Product_0574</td>\n",
       "      <td>No class</td>\n",
       "      <td>C</td>\n",
       "      <td>C</td>\n",
       "      <td>2 month</td>\n",
       "    </tr>\n",
       "    <tr>\n",
       "      <th>2059</th>\n",
       "      <td>Product_0403</td>\n",
       "      <td>No class</td>\n",
       "      <td>C</td>\n",
       "      <td>C</td>\n",
       "      <td>2 month</td>\n",
       "    </tr>\n",
       "    <tr>\n",
       "      <th>2060</th>\n",
       "      <td>Product_1317</td>\n",
       "      <td>C</td>\n",
       "      <td>C</td>\n",
       "      <td>C</td>\n",
       "      <td>3 month</td>\n",
       "    </tr>\n",
       "    <tr>\n",
       "      <th>2061</th>\n",
       "      <td>Product_0511</td>\n",
       "      <td>No class</td>\n",
       "      <td>No class</td>\n",
       "      <td>C</td>\n",
       "      <td>1 month</td>\n",
       "    </tr>\n",
       "    <tr>\n",
       "      <th>2062</th>\n",
       "      <td>Product_1327</td>\n",
       "      <td>No class</td>\n",
       "      <td>No class</td>\n",
       "      <td>C</td>\n",
       "      <td>1 month</td>\n",
       "    </tr>\n",
       "    <tr>\n",
       "      <th>2063</th>\n",
       "      <td>Product_0518</td>\n",
       "      <td>No class</td>\n",
       "      <td>C</td>\n",
       "      <td>C</td>\n",
       "      <td>2 month</td>\n",
       "    </tr>\n",
       "    <tr>\n",
       "      <th>2064</th>\n",
       "      <td>Product_0442</td>\n",
       "      <td>No class</td>\n",
       "      <td>C</td>\n",
       "      <td>C</td>\n",
       "      <td>2 month</td>\n",
       "    </tr>\n",
       "    <tr>\n",
       "      <th>2065</th>\n",
       "      <td>Product_1072</td>\n",
       "      <td>C</td>\n",
       "      <td>C</td>\n",
       "      <td>C</td>\n",
       "      <td>3 month</td>\n",
       "    </tr>\n",
       "    <tr>\n",
       "      <th>2066</th>\n",
       "      <td>Product_0563</td>\n",
       "      <td>No class</td>\n",
       "      <td>No class</td>\n",
       "      <td>C</td>\n",
       "      <td>1 month</td>\n",
       "    </tr>\n",
       "    <tr>\n",
       "      <th>2067</th>\n",
       "      <td>Product_0391</td>\n",
       "      <td>No class</td>\n",
       "      <td>No class</td>\n",
       "      <td>C</td>\n",
       "      <td>1 month</td>\n",
       "    </tr>\n",
       "    <tr>\n",
       "      <th>2068</th>\n",
       "      <td>Product_1116</td>\n",
       "      <td>C</td>\n",
       "      <td>C</td>\n",
       "      <td>C</td>\n",
       "      <td>3 month</td>\n",
       "    </tr>\n",
       "    <tr>\n",
       "      <th>2069</th>\n",
       "      <td>Product_1800</td>\n",
       "      <td>No class</td>\n",
       "      <td>C</td>\n",
       "      <td>C</td>\n",
       "      <td>2 month</td>\n",
       "    </tr>\n",
       "    <tr>\n",
       "      <th>2070</th>\n",
       "      <td>Product_0252</td>\n",
       "      <td>No class</td>\n",
       "      <td>No class</td>\n",
       "      <td>C</td>\n",
       "      <td>1 month</td>\n",
       "    </tr>\n",
       "    <tr>\n",
       "      <th>2071</th>\n",
       "      <td>Product_1808</td>\n",
       "      <td>No class</td>\n",
       "      <td>No class</td>\n",
       "      <td>C</td>\n",
       "      <td>1 month</td>\n",
       "    </tr>\n",
       "    <tr>\n",
       "      <th>2072</th>\n",
       "      <td>Product_1205</td>\n",
       "      <td>No class</td>\n",
       "      <td>C</td>\n",
       "      <td>C</td>\n",
       "      <td>2 month</td>\n",
       "    </tr>\n",
       "    <tr>\n",
       "      <th>2073</th>\n",
       "      <td>Product_0382</td>\n",
       "      <td>No class</td>\n",
       "      <td>No class</td>\n",
       "      <td>C</td>\n",
       "      <td>1 month</td>\n",
       "    </tr>\n",
       "    <tr>\n",
       "      <th>2074</th>\n",
       "      <td>Product_1961</td>\n",
       "      <td>No class</td>\n",
       "      <td>No class</td>\n",
       "      <td>C</td>\n",
       "      <td>1 month</td>\n",
       "    </tr>\n",
       "    <tr>\n",
       "      <th>2075</th>\n",
       "      <td>Product_0691</td>\n",
       "      <td>C</td>\n",
       "      <td>C</td>\n",
       "      <td>C</td>\n",
       "      <td>3 month</td>\n",
       "    </tr>\n",
       "    <tr>\n",
       "      <th>2076</th>\n",
       "      <td>Product_0911</td>\n",
       "      <td>No class</td>\n",
       "      <td>No class</td>\n",
       "      <td>C</td>\n",
       "      <td>1 month</td>\n",
       "    </tr>\n",
       "  </tbody>\n",
       "</table>\n",
       "</div>"
      ],
      "text/plain": [
       "      Product_Code   class_1   class_2 class_3 recommendation\n",
       "2057  Product_1071         C         C       C        3 month\n",
       "2058  Product_0574  No class         C       C        2 month\n",
       "2059  Product_0403  No class         C       C        2 month\n",
       "2060  Product_1317         C         C       C        3 month\n",
       "2061  Product_0511  No class  No class       C        1 month\n",
       "2062  Product_1327  No class  No class       C        1 month\n",
       "2063  Product_0518  No class         C       C        2 month\n",
       "2064  Product_0442  No class         C       C        2 month\n",
       "2065  Product_1072         C         C       C        3 month\n",
       "2066  Product_0563  No class  No class       C        1 month\n",
       "2067  Product_0391  No class  No class       C        1 month\n",
       "2068  Product_1116         C         C       C        3 month\n",
       "2069  Product_1800  No class         C       C        2 month\n",
       "2070  Product_0252  No class  No class       C        1 month\n",
       "2071  Product_1808  No class  No class       C        1 month\n",
       "2072  Product_1205  No class         C       C        2 month\n",
       "2073  Product_0382  No class  No class       C        1 month\n",
       "2074  Product_1961  No class  No class       C        1 month\n",
       "2075  Product_0691         C         C       C        3 month\n",
       "2076  Product_0911  No class  No class       C        1 month"
      ]
     },
     "execution_count": 115,
     "metadata": {},
     "output_type": "execute_result"
    }
   ],
   "source": [
    "month_copy.tail(20)"
   ]
  },
  {
   "cell_type": "markdown",
   "metadata": {},
   "source": [
    "### Lab for filtering data"
   ]
  },
  {
   "cell_type": "code",
   "execution_count": 36,
   "metadata": {},
   "outputs": [
    {
     "data": {
      "text/html": [
       "<div>\n",
       "<style scoped>\n",
       "    .dataframe tbody tr th:only-of-type {\n",
       "        vertical-align: middle;\n",
       "    }\n",
       "\n",
       "    .dataframe tbody tr th {\n",
       "        vertical-align: top;\n",
       "    }\n",
       "\n",
       "    .dataframe thead th {\n",
       "        text-align: right;\n",
       "    }\n",
       "</style>\n",
       "<table border=\"1\" class=\"dataframe\">\n",
       "  <thead>\n",
       "    <tr style=\"text-align: right;\">\n",
       "      <th></th>\n",
       "      <th>Product_Code</th>\n",
       "      <th>Date</th>\n",
       "      <th>Order_Demand</th>\n",
       "    </tr>\n",
       "  </thead>\n",
       "  <tbody>\n",
       "    <tr>\n",
       "      <th>0</th>\n",
       "      <td>Product_1891</td>\n",
       "      <td>2016-07-01</td>\n",
       "      <td>4</td>\n",
       "    </tr>\n",
       "    <tr>\n",
       "      <th>1</th>\n",
       "      <td>Product_1674</td>\n",
       "      <td>2016-07-01</td>\n",
       "      <td>6</td>\n",
       "    </tr>\n",
       "    <tr>\n",
       "      <th>2</th>\n",
       "      <td>Product_0287</td>\n",
       "      <td>2016-07-01</td>\n",
       "      <td>1200</td>\n",
       "    </tr>\n",
       "    <tr>\n",
       "      <th>3</th>\n",
       "      <td>Product_0204</td>\n",
       "      <td>2016-07-01</td>\n",
       "      <td>105</td>\n",
       "    </tr>\n",
       "    <tr>\n",
       "      <th>4</th>\n",
       "      <td>Product_1250</td>\n",
       "      <td>2016-07-01</td>\n",
       "      <td>2000</td>\n",
       "    </tr>\n",
       "  </tbody>\n",
       "</table>\n",
       "</div>"
      ],
      "text/plain": [
       "   Product_Code        Date  Order_Demand\n",
       "0  Product_1891  2016-07-01             4\n",
       "1  Product_1674  2016-07-01             6\n",
       "2  Product_0287  2016-07-01          1200\n",
       "3  Product_0204  2016-07-01           105\n",
       "4  Product_1250  2016-07-01          2000"
      ]
     },
     "execution_count": 36,
     "metadata": {},
     "output_type": "execute_result"
    }
   ],
   "source": [
    "data_6 = pd.read_csv('Product Demand 6 Months.csv')\n",
    "data_6.drop(columns='Unnamed: 0', inplace = True)\n",
    "data_6.head()"
   ]
  },
  {
   "cell_type": "code",
   "execution_count": 37,
   "metadata": {},
   "outputs": [
    {
     "data": {
      "text/html": [
       "<div>\n",
       "<style scoped>\n",
       "    .dataframe tbody tr th:only-of-type {\n",
       "        vertical-align: middle;\n",
       "    }\n",
       "\n",
       "    .dataframe tbody tr th {\n",
       "        vertical-align: top;\n",
       "    }\n",
       "\n",
       "    .dataframe thead th {\n",
       "        text-align: right;\n",
       "    }\n",
       "</style>\n",
       "<table border=\"1\" class=\"dataframe\">\n",
       "  <thead>\n",
       "    <tr style=\"text-align: right;\">\n",
       "      <th></th>\n",
       "      <th>Product_Code</th>\n",
       "      <th>Date</th>\n",
       "      <th>Order_Demand</th>\n",
       "    </tr>\n",
       "  </thead>\n",
       "  <tbody>\n",
       "    <tr>\n",
       "      <th>0</th>\n",
       "      <td>Product_1891</td>\n",
       "      <td>2016-07-01</td>\n",
       "      <td>4</td>\n",
       "    </tr>\n",
       "    <tr>\n",
       "      <th>1</th>\n",
       "      <td>Product_1674</td>\n",
       "      <td>2016-07-01</td>\n",
       "      <td>6</td>\n",
       "    </tr>\n",
       "    <tr>\n",
       "      <th>2</th>\n",
       "      <td>Product_0287</td>\n",
       "      <td>2016-07-01</td>\n",
       "      <td>1200</td>\n",
       "    </tr>\n",
       "    <tr>\n",
       "      <th>3</th>\n",
       "      <td>Product_0204</td>\n",
       "      <td>2016-07-01</td>\n",
       "      <td>105</td>\n",
       "    </tr>\n",
       "    <tr>\n",
       "      <th>4</th>\n",
       "      <td>Product_1250</td>\n",
       "      <td>2016-07-01</td>\n",
       "      <td>2000</td>\n",
       "    </tr>\n",
       "  </tbody>\n",
       "</table>\n",
       "</div>"
      ],
      "text/plain": [
       "   Product_Code       Date  Order_Demand\n",
       "0  Product_1891 2016-07-01             4\n",
       "1  Product_1674 2016-07-01             6\n",
       "2  Product_0287 2016-07-01          1200\n",
       "3  Product_0204 2016-07-01           105\n",
       "4  Product_1250 2016-07-01          2000"
      ]
     },
     "execution_count": 37,
     "metadata": {},
     "output_type": "execute_result"
    }
   ],
   "source": [
    "data_6['Date'] = pd.to_datetime(data_6['Date'])\n",
    "data_6.head()"
   ]
  },
  {
   "cell_type": "code",
   "execution_count": 38,
   "metadata": {},
   "outputs": [
    {
     "name": "stdout",
     "output_type": "stream",
     "text": [
      "<class 'pandas.core.frame.DataFrame'>\n",
      "RangeIndex: 85605 entries, 0 to 85604\n",
      "Data columns (total 3 columns):\n",
      " #   Column        Non-Null Count  Dtype         \n",
      "---  ------        --------------  -----         \n",
      " 0   Product_Code  85605 non-null  object        \n",
      " 1   Date          85605 non-null  datetime64[ns]\n",
      " 2   Order_Demand  85605 non-null  int64         \n",
      "dtypes: datetime64[ns](1), int64(1), object(1)\n",
      "memory usage: 2.0+ MB\n"
     ]
    }
   ],
   "source": [
    "data_6.info()"
   ]
  },
  {
   "cell_type": "code",
   "execution_count": 49,
   "metadata": {},
   "outputs": [
    {
     "data": {
      "text/html": [
       "<div>\n",
       "<style scoped>\n",
       "    .dataframe tbody tr th:only-of-type {\n",
       "        vertical-align: middle;\n",
       "    }\n",
       "\n",
       "    .dataframe tbody tr th {\n",
       "        vertical-align: top;\n",
       "    }\n",
       "\n",
       "    .dataframe thead th {\n",
       "        text-align: right;\n",
       "    }\n",
       "</style>\n",
       "<table border=\"1\" class=\"dataframe\">\n",
       "  <thead>\n",
       "    <tr style=\"text-align: right;\">\n",
       "      <th></th>\n",
       "      <th>Product_Code</th>\n",
       "      <th>Date</th>\n",
       "      <th>Order_Demand</th>\n",
       "      <th>month</th>\n",
       "    </tr>\n",
       "  </thead>\n",
       "  <tbody>\n",
       "    <tr>\n",
       "      <th>0</th>\n",
       "      <td>Product_1891</td>\n",
       "      <td>2016-07-01</td>\n",
       "      <td>4</td>\n",
       "      <td>7</td>\n",
       "    </tr>\n",
       "    <tr>\n",
       "      <th>1</th>\n",
       "      <td>Product_1674</td>\n",
       "      <td>2016-07-01</td>\n",
       "      <td>6</td>\n",
       "      <td>7</td>\n",
       "    </tr>\n",
       "    <tr>\n",
       "      <th>2</th>\n",
       "      <td>Product_0287</td>\n",
       "      <td>2016-07-01</td>\n",
       "      <td>1200</td>\n",
       "      <td>7</td>\n",
       "    </tr>\n",
       "    <tr>\n",
       "      <th>3</th>\n",
       "      <td>Product_0204</td>\n",
       "      <td>2016-07-01</td>\n",
       "      <td>105</td>\n",
       "      <td>7</td>\n",
       "    </tr>\n",
       "    <tr>\n",
       "      <th>4</th>\n",
       "      <td>Product_1250</td>\n",
       "      <td>2016-07-01</td>\n",
       "      <td>2000</td>\n",
       "      <td>7</td>\n",
       "    </tr>\n",
       "    <tr>\n",
       "      <th>...</th>\n",
       "      <td>...</td>\n",
       "      <td>...</td>\n",
       "      <td>...</td>\n",
       "      <td>...</td>\n",
       "    </tr>\n",
       "    <tr>\n",
       "      <th>85600</th>\n",
       "      <td>Product_1314</td>\n",
       "      <td>2016-12-30</td>\n",
       "      <td>1000</td>\n",
       "      <td>12</td>\n",
       "    </tr>\n",
       "    <tr>\n",
       "      <th>85601</th>\n",
       "      <td>Product_1503</td>\n",
       "      <td>2016-12-30</td>\n",
       "      <td>2000</td>\n",
       "      <td>12</td>\n",
       "    </tr>\n",
       "    <tr>\n",
       "      <th>85602</th>\n",
       "      <td>Product_0200</td>\n",
       "      <td>2016-12-30</td>\n",
       "      <td>20</td>\n",
       "      <td>12</td>\n",
       "    </tr>\n",
       "    <tr>\n",
       "      <th>85603</th>\n",
       "      <td>Product_1496</td>\n",
       "      <td>2016-12-30</td>\n",
       "      <td>2000</td>\n",
       "      <td>12</td>\n",
       "    </tr>\n",
       "    <tr>\n",
       "      <th>85604</th>\n",
       "      <td>Product_1431</td>\n",
       "      <td>2016-12-30</td>\n",
       "      <td>15000</td>\n",
       "      <td>12</td>\n",
       "    </tr>\n",
       "  </tbody>\n",
       "</table>\n",
       "<p>85605 rows × 4 columns</p>\n",
       "</div>"
      ],
      "text/plain": [
       "       Product_Code       Date  Order_Demand  month\n",
       "0      Product_1891 2016-07-01             4      7\n",
       "1      Product_1674 2016-07-01             6      7\n",
       "2      Product_0287 2016-07-01          1200      7\n",
       "3      Product_0204 2016-07-01           105      7\n",
       "4      Product_1250 2016-07-01          2000      7\n",
       "...             ...        ...           ...    ...\n",
       "85600  Product_1314 2016-12-30          1000     12\n",
       "85601  Product_1503 2016-12-30          2000     12\n",
       "85602  Product_0200 2016-12-30            20     12\n",
       "85603  Product_1496 2016-12-30          2000     12\n",
       "85604  Product_1431 2016-12-30         15000     12\n",
       "\n",
       "[85605 rows x 4 columns]"
      ]
     },
     "execution_count": 49,
     "metadata": {},
     "output_type": "execute_result"
    }
   ],
   "source": [
    "data_6['month'] = data_6['Date'].dt.month\n",
    "data_6"
   ]
  },
  {
   "cell_type": "code",
   "execution_count": 47,
   "metadata": {},
   "outputs": [
    {
     "data": {
      "text/plain": [
       "array([10, 11, 12], dtype=int64)"
      ]
     },
     "execution_count": 47,
     "metadata": {},
     "output_type": "execute_result"
    }
   ],
   "source": [
    "months = data_6.month.unique()\n",
    "last_3_months = months[-3:]\n",
    "last_3_months"
   ]
  },
  {
   "cell_type": "code",
   "execution_count": 55,
   "metadata": {},
   "outputs": [
    {
     "data": {
      "text/html": [
       "<div>\n",
       "<style scoped>\n",
       "    .dataframe tbody tr th:only-of-type {\n",
       "        vertical-align: middle;\n",
       "    }\n",
       "\n",
       "    .dataframe tbody tr th {\n",
       "        vertical-align: top;\n",
       "    }\n",
       "\n",
       "    .dataframe thead th {\n",
       "        text-align: right;\n",
       "    }\n",
       "</style>\n",
       "<table border=\"1\" class=\"dataframe\">\n",
       "  <thead>\n",
       "    <tr style=\"text-align: right;\">\n",
       "      <th></th>\n",
       "      <th>Product_Code</th>\n",
       "      <th>Date</th>\n",
       "      <th>Order_Demand</th>\n",
       "      <th>month</th>\n",
       "    </tr>\n",
       "  </thead>\n",
       "  <tbody>\n",
       "    <tr>\n",
       "      <th>41752</th>\n",
       "      <td>Product_2144</td>\n",
       "      <td>2016-10-02</td>\n",
       "      <td>10</td>\n",
       "      <td>10</td>\n",
       "    </tr>\n",
       "    <tr>\n",
       "      <th>41753</th>\n",
       "      <td>Product_2136</td>\n",
       "      <td>2016-10-02</td>\n",
       "      <td>20</td>\n",
       "      <td>10</td>\n",
       "    </tr>\n",
       "    <tr>\n",
       "      <th>41754</th>\n",
       "      <td>Product_2132</td>\n",
       "      <td>2016-10-02</td>\n",
       "      <td>10</td>\n",
       "      <td>10</td>\n",
       "    </tr>\n",
       "    <tr>\n",
       "      <th>41755</th>\n",
       "      <td>Product_2131</td>\n",
       "      <td>2016-10-02</td>\n",
       "      <td>140</td>\n",
       "      <td>10</td>\n",
       "    </tr>\n",
       "    <tr>\n",
       "      <th>41756</th>\n",
       "      <td>Product_2138</td>\n",
       "      <td>2016-10-02</td>\n",
       "      <td>10</td>\n",
       "      <td>10</td>\n",
       "    </tr>\n",
       "    <tr>\n",
       "      <th>...</th>\n",
       "      <td>...</td>\n",
       "      <td>...</td>\n",
       "      <td>...</td>\n",
       "      <td>...</td>\n",
       "    </tr>\n",
       "    <tr>\n",
       "      <th>85600</th>\n",
       "      <td>Product_1314</td>\n",
       "      <td>2016-12-30</td>\n",
       "      <td>1000</td>\n",
       "      <td>12</td>\n",
       "    </tr>\n",
       "    <tr>\n",
       "      <th>85601</th>\n",
       "      <td>Product_1503</td>\n",
       "      <td>2016-12-30</td>\n",
       "      <td>2000</td>\n",
       "      <td>12</td>\n",
       "    </tr>\n",
       "    <tr>\n",
       "      <th>85602</th>\n",
       "      <td>Product_0200</td>\n",
       "      <td>2016-12-30</td>\n",
       "      <td>20</td>\n",
       "      <td>12</td>\n",
       "    </tr>\n",
       "    <tr>\n",
       "      <th>85603</th>\n",
       "      <td>Product_1496</td>\n",
       "      <td>2016-12-30</td>\n",
       "      <td>2000</td>\n",
       "      <td>12</td>\n",
       "    </tr>\n",
       "    <tr>\n",
       "      <th>85604</th>\n",
       "      <td>Product_1431</td>\n",
       "      <td>2016-12-30</td>\n",
       "      <td>15000</td>\n",
       "      <td>12</td>\n",
       "    </tr>\n",
       "  </tbody>\n",
       "</table>\n",
       "<p>43853 rows × 4 columns</p>\n",
       "</div>"
      ],
      "text/plain": [
       "       Product_Code       Date  Order_Demand  month\n",
       "41752  Product_2144 2016-10-02            10     10\n",
       "41753  Product_2136 2016-10-02            20     10\n",
       "41754  Product_2132 2016-10-02            10     10\n",
       "41755  Product_2131 2016-10-02           140     10\n",
       "41756  Product_2138 2016-10-02            10     10\n",
       "...             ...        ...           ...    ...\n",
       "85600  Product_1314 2016-12-30          1000     12\n",
       "85601  Product_1503 2016-12-30          2000     12\n",
       "85602  Product_0200 2016-12-30            20     12\n",
       "85603  Product_1496 2016-12-30          2000     12\n",
       "85604  Product_1431 2016-12-30         15000     12\n",
       "\n",
       "[43853 rows x 4 columns]"
      ]
     },
     "execution_count": 55,
     "metadata": {},
     "output_type": "execute_result"
    }
   ],
   "source": [
    "data_3 = data_6.loc[data_6['month'].apply(lambda x: x in last_3_months)]\n",
    "data_3"
   ]
  },
  {
   "cell_type": "code",
   "execution_count": 54,
   "metadata": {},
   "outputs": [
    {
     "ename": "SyntaxError",
     "evalue": "invalid syntax (Temp/ipykernel_21664/382951748.py, line 1)",
     "output_type": "error",
     "traceback": [
      "\u001b[1;36m  File \u001b[1;32m\"C:\\Users\\AFIFAT~1\\AppData\\Local\\Temp/ipykernel_21664/382951748.py\"\u001b[1;36m, line \u001b[1;32m1\u001b[0m\n\u001b[1;33m    help(lambda x)\u001b[0m\n\u001b[1;37m                 ^\u001b[0m\n\u001b[1;31mSyntaxError\u001b[0m\u001b[1;31m:\u001b[0m invalid syntax\n"
     ]
    }
   ],
   "source": []
  },
  {
   "cell_type": "code",
   "execution_count": null,
   "metadata": {},
   "outputs": [],
   "source": []
  }
 ],
 "metadata": {
  "colab": {
   "collapsed_sections": [
    "HxImIY0QYu2A"
   ],
   "name": "ABC Classification Revision with XYZ Analysis.ipynb",
   "provenance": []
  },
  "kernelspec": {
   "display_name": "Python 3 (ipykernel)",
   "language": "python",
   "name": "python3"
  },
  "language_info": {
   "codemirror_mode": {
    "name": "ipython",
    "version": 3
   },
   "file_extension": ".py",
   "mimetype": "text/x-python",
   "name": "python",
   "nbconvert_exporter": "python",
   "pygments_lexer": "ipython3",
   "version": "3.9.9"
  },
  "latex_envs": {
   "LaTeX_envs_menu_present": true,
   "autoclose": false,
   "autocomplete": true,
   "bibliofile": "biblio.bib",
   "cite_by": "apalike",
   "current_citInitial": 1,
   "eqLabelWithNumbers": true,
   "eqNumInitial": 1,
   "hotkeys": {
    "equation": "Ctrl-E",
    "itemize": "Ctrl-I"
   },
   "labels_anchors": false,
   "latex_user_defs": false,
   "report_style_numbering": false,
   "user_envs_cfg": false
  },
  "toc": {
   "base_numbering": "1",
   "nav_menu": {
    "height": "12px",
    "width": "160px"
   },
   "number_sections": false,
   "sideBar": true,
   "skip_h1_title": false,
   "title_cell": "Table of Contents",
   "title_sidebar": "Contents",
   "toc_cell": false,
   "toc_position": {
    "height": "calc(100% - 180px)",
    "left": "10px",
    "top": "150px",
    "width": "244.188px"
   },
   "toc_section_display": true,
   "toc_window_display": false
  },
  "toc-autonumbering": false,
  "toc-showcode": false,
  "toc-showmarkdowntxt": true
 },
 "nbformat": 4,
 "nbformat_minor": 4
}
